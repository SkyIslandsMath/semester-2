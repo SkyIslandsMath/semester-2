{
 "cells": [
  {
   "cell_type": "markdown",
   "metadata": {},
   "source": [
    "# More Choropleths\n",
    "The only built-in maps for choropleths are for countries and U.S. States - and they only work with `px.choropleth` not `px.choropleth_mapbox`. So if we want to use a web-based map or if we want to use some other maps for choropleths we must supply our own 'geometry' (the shapes that are colored in - like the U.S. states or countries). Some other common regions we might want to use for choropleths are states/provinces of other countries, city boundaries,neighborhoods, zip codes, counties, voting districts, etc.\n",
    "\n",
    "There are a number of standard geographical file types to represent these various regions, including Shapefiles and GeoJSONs. Plotly is designed to work with GeoJSONs, so that's what we'll use."
   ]
  },
  {
   "cell_type": "markdown",
   "metadata": {},
   "source": [
    "## GeoJSONs"
   ]
  },
  {
   "cell_type": "markdown",
   "metadata": {},
   "source": [
    "A json file is a standard file format used widely on the internet (primarily by web developers so you probably haven't heard of it). A GeoJSON is just a json with some special geograpic attributes. In order to read a json file we'll need to use a new library, called the `requests` library. `requests` is primarily designed to get files from the internet - we haven't needed to use it yet because our libraries - `pandas` and `plotly` - have taken care of it for us. But requests is built to decode jsons as well, so we'll use it here.\n",
    "\n",
    "As always we'll import it, along with our regular imports:"
   ]
  },
  {
   "cell_type": "code",
   "execution_count": null,
   "metadata": {},
   "outputs": [],
   "source": [
    "import pandas as pd\n",
    "import plotly.express as px\n",
    "import requests"
   ]
  },
  {
   "cell_type": "markdown",
   "metadata": {},
   "source": [
    "In order to 'request' a file over the internet, we call `requests.get()` with the address of the file we want, then we add `.json()` on the end to signify that this is a json file. Let's use this to import a file with U.S. counties here."
   ]
  },
  {
   "cell_type": "code",
   "execution_count": null,
   "metadata": {},
   "outputs": [],
   "source": [
    "address = 'https://github.com/SkyIslandsMath/semester-2/raw/master/data/counties_med.geojson'\n",
    "counties = requests.get(address).json()"
   ]
  },
  {
   "cell_type": "code",
   "execution_count": null,
   "metadata": {},
   "outputs": [],
   "source": [
    "counties"
   ]
  },
  {
   "cell_type": "markdown",
   "metadata": {},
   "source": [
    "If you look at the `counties` file above, you see that there is a lot of information in it -- much of it is just gibberish to us. There are a lot of individual entries in this file - one for each county - let's look at the first one to see it's structure:\n",
    "```\n",
    "{'type': 'Feature',\n",
    "   'properties': {'STATEFP': '39',\n",
    "    'COUNTYFP': '071',\n",
    "    'COUNTYNS': '01074048',\n",
    "    'AFFGEOID': '0500000US39071',\n",
    "    'GEOID': '39071',\n",
    "    'NAME': 'Highland',\n",
    "    'LSAD': '06',\n",
    "    'ALAND': 1432479992,\n",
    "    'AWATER': 12194983},\n",
    "   'geometry': {'type': 'Polygon',\n",
    "    'coordinates': [[[-83.869762, 39.05553],\n",
    "      [-83.865679, 39.247333],\n",
    "      [-83.834404, 39.245715],\n",
    "      [-83.835869, 39.223304],\n",
    "      [-83.813873, 39.223044],\n",
    "      [-83.80134, 39.231567],\n",
    "      [-83.784793, 39.262888],\n",
    "      [-83.590878, 39.378736],\n",
    "      [-83.372714, 39.377416],\n",
    "      [-83.375073, 39.347827],\n",
    "      [-83.386057, 39.31969],\n",
    "      [-83.376629, 39.290944],\n",
    "      [-83.393794, 39.268048],\n",
    "      [-83.381125, 39.249618],\n",
    "      [-83.362351, 39.240576],\n",
    "      [-83.344984, 39.250604],\n",
    "      [-83.343479, 39.233216],\n",
    "      [-83.353531, 39.197585],\n",
    "      [-83.385637, 39.055197],\n",
    "      [-83.611592, 39.01889],\n",
    "      [-83.673018, 39.02043],\n",
    "      [-83.70535, 39.021351],\n",
    "      [-83.816859, 39.020173],\n",
    "      [-83.872214, 39.021304],\n",
    "      [-83.869762, 39.05553]]]}},\n",
    "```\n",
    "Most of this we don't need to understand. There is some information about the county followed by it's geometry. The geometry is just a set of latitude/longitude coordinates that describe the boundary of the county. The main thing we need to consider is how we will connect this geometry to a value in our dataset. In general, we need some kind of name or id code that is present in our data and our geojson. Some obvious possibilities are the `'NAME'` property - this is apparently the geometry for Highland county - and the `'GEOID'` property which is hopefully some kind of geographical id.\n",
    "\n",
    "Let's look at our data to see whether either of these are there."
   ]
  },
  {
   "cell_type": "markdown",
   "metadata": {},
   "source": [
    "## Making our choropleth"
   ]
  },
  {
   "cell_type": "markdown",
   "metadata": {},
   "source": [
    "We'll start by looking at the median age of the residents of each county. Our data is located at \n",
    "`'https://raw.githubusercontent.com/SkyIslandsMath/semester-2/master/data/county_median_age.csv'`\n",
    "let's load it and look at it."
   ]
  },
  {
   "cell_type": "code",
   "execution_count": null,
   "metadata": {},
   "outputs": [],
   "source": [
    "age = pd.read_csv(\n",
    "    'https://raw.githubusercontent.com/SkyIslandsMath/semester-2/master/data/county_median_age.csv',\n",
    "    # the line below tells pandas to treat the data in the 'geoid' column as strings \n",
    "    #rather than numbers - I'll tell you when you need to do this\n",
    "    dtype={'geoid': str})\n",
    "age"
   ]
  },
  {
   "cell_type": "markdown",
   "metadata": {},
   "source": [
    "We can see that the dataset has both county names and geoids. If we look at the county names,though, we see they contain the state names too, as well as the word county, some spaces and a comma. None of that appears in our GeoJSON above, and we need them to match exactly. We could try and fix that column, but since we also have the geoids we'll just use them.\n",
    "\n",
    "Now, when we call our choropleth function, we are really passing it two datasets - the one with the median ages, and the one with the county geometries. We will connect these with their geoids."
   ]
  },
  {
   "cell_type": "code",
   "execution_count": null,
   "metadata": {},
   "outputs": [],
   "source": [
    "px.choropleth_mapbox(\n",
    "    #the dataframe with our median age data\n",
    "    age,\n",
    "    # we use the argument to 'locations=' to identify \n",
    "    # the column in our dataframe that will connect us to our geometry\n",
    "    locations='geoid',\n",
    "    # the 'column in our data that we want to control the color of our counties\n",
    "    color='median',\n",
    "    \n",
    "    #county geometries\n",
    "    geojson=counties,\n",
    "    #the argument below tells plotly what part of the geojson connects to our data\n",
    "    #in this case the property 'GEOID' which we identify with 'properties.GEOID'\n",
    "    featureidkey='properties.GEOID',\n",
    "    \n",
    "    #all of our other options\n",
    "    color_continuous_scale='Sunset',\n",
    "    range_color=[28,55],\n",
    "    hover_data=['name'],\n",
    "    mapbox_style=\"carto-positron\",\n",
    "    zoom=3,\n",
    "    center={\n",
    "        \"lat\": 37.0902,\n",
    "        \"lon\": -95.7129\n",
    "    },\n",
    "    opacity=0.5)"
   ]
  },
  {
   "cell_type": "markdown",
   "metadata": {},
   "source": [
    "Great! Now you try one, We'll use the same data for our county geometries, but use a different dataset. We'll look at the median household income for each county. Our data can be found here:\n",
    "`'https://raw.githubusercontent.com/SkyIslandsMath/semester-2/master/data/county_median_income.csv'`"
   ]
  },
  {
   "cell_type": "code",
   "execution_count": null,
   "metadata": {},
   "outputs": [],
   "source": [
    "#load our data using pd.read_csv , save it to a variable named income\n",
    "# use the argument dtype={'geoid': str} when you read the csv file\n",
    "\n",
    "#display our data\n"
   ]
  },
  {
   "cell_type": "markdown",
   "metadata": {},
   "source": [
    "We can see that we have our geoids again, so we can use the same structure as our last choropleth.V"
   ]
  },
  {
   "cell_type": "code",
   "execution_count": null,
   "metadata": {},
   "outputs": [],
   "source": [
    "px.choropleth_mapbox(\n",
    "    #the dataframe with our median income data\n",
    "    ,\n",
    "    # we use the argument to 'locations=' to identify \n",
    "    # the column in our dataframe that will connect us to our geometry\n",
    "    locations=,\n",
    "    # the 'column in our data that we want to control the color of our counties\n",
    "    color=,\n",
    "    \n",
    "    #county geometries\n",
    "    geojson=,\n",
    "    #the argument below tells plotly what part of the geojson connects to our data\n",
    "    #in this case the property 'GEOID' which we identify with 'properties.GEOID'\n",
    "    featureidkey=\\,\n",
    "    \n",
    "    #all of our other options\n",
    "    color_continuous_scale='Greens',\n",
    "    range_color=[16000,100000],\n",
    "    hover_data=['name'],\n",
    "    mapbox_style=\"carto-positron\",\n",
    "    zoom=3,\n",
    "    center={\n",
    "        \"lat\": 37.0902,\n",
    "        \"lon\": -95.7129\n",
    "    },\n",
    "    opacity=0.5)"
   ]
  },
  {
   "cell_type": "markdown",
   "metadata": {},
   "source": [
    "Neat-o. Feel free to play around with these maps to change their appearances."
   ]
  },
  {
   "cell_type": "markdown",
   "metadata": {},
   "source": [
    "## Assignment"
   ]
  },
  {
   "cell_type": "markdown",
   "metadata": {},
   "source": [
    "Let's look at county poverty levels. We have a dataset with each counties population, population in poverty, and percent of population in poverty here:\n",
    "```\n",
    "https://raw.githubusercontent.com/SkyIslandsMath/semester-2/master/data/county_poverty.csv\n",
    "```\n",
    "Load it with `pd.read_csv` and use the argument `dtype={'geoid':str}`. Then make two choropleths, one for county populations and one for county poverty rates."
   ]
  },
  {
   "cell_type": "code",
   "execution_count": null,
   "metadata": {},
   "outputs": [],
   "source": []
  }
 ],
 "metadata": {
  "hide_input": false,
  "kernelspec": {
   "display_name": "Python 3",
   "language": "python",
   "name": "python3"
  },
  "language_info": {
   "codemirror_mode": {
    "name": "ipython",
    "version": 3
   },
   "file_extension": ".py",
   "mimetype": "text/x-python",
   "name": "python",
   "nbconvert_exporter": "python",
   "pygments_lexer": "ipython3",
   "version": "3.7.3"
  },
  "varInspector": {
   "cols": {
    "lenName": 16,
    "lenType": 16,
    "lenVar": 40
   },
   "kernels_config": {
    "python": {
     "delete_cmd_postfix": "",
     "delete_cmd_prefix": "del ",
     "library": "var_list.py",
     "varRefreshCmd": "print(var_dic_list())"
    },
    "r": {
     "delete_cmd_postfix": ") ",
     "delete_cmd_prefix": "rm(",
     "library": "var_list.r",
     "varRefreshCmd": "cat(var_dic_list()) "
    }
   },
   "types_to_exclude": [
    "module",
    "function",
    "builtin_function_or_method",
    "instance",
    "_Feature"
   ],
   "window_display": false
  }
 },
 "nbformat": 4,
 "nbformat_minor": 2
}
