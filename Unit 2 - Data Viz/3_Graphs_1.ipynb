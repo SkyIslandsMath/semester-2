{
  "nbformat": 4,
  "nbformat_minor": 0,
  "metadata": {
    "colab": {
      "name": "3 - Graphs 1.ipynb",
      "provenance": [],
      "collapsed_sections": [],
      "toc_visible": true,
      "authorship_tag": "ABX9TyOTqMdtgN0EvzsBXQM3/NNR",
      "include_colab_link": true
    },
    "kernelspec": {
      "name": "python3",
      "display_name": "Python 3"
    }
  },
  "cells": [
    {
      "cell_type": "markdown",
      "metadata": {
        "id": "view-in-github",
        "colab_type": "text"
      },
      "source": [
        "<a href=\"https://colab.research.google.com/github/SkyIslandsMath/semester-2/blob/master/Unit%202%20-%20Data%20Viz/3_Graphs_1.ipynb\" target=\"_parent\"><img src=\"https://colab.research.google.com/assets/colab-badge.svg\" alt=\"Open In Colab\"/></a>"
      ]
    },
    {
      "cell_type": "markdown",
      "metadata": {
        "id": "OBb-AIOnxcw4",
        "colab_type": "text"
      },
      "source": [
        "# Lets get Visual\n",
        "We saw in the last notebook how to extract numerical information from our data - like the survival rates for men and women. We'll see in this notebook how we can display that kind of information visually. We'll use some techiniques we saw in the gapminder data, and learn some new ones as well"
      ]
    },
    {
      "cell_type": "markdown",
      "metadata": {
        "id": "2p_RWko00K_q",
        "colab_type": "text"
      },
      "source": [
        "### Imports\n",
        "Always remember to start your notebook by importing any libraries you will need. In this case we need pandas and plotly express, and I'll load colab's data_table extension so our data is a little prettier"
      ]
    },
    {
      "cell_type": "code",
      "metadata": {
        "id": "P-7CXxzlvW6b",
        "colab_type": "code",
        "colab": {}
      },
      "source": [
        "import pandas as pd\n",
        "import plotly.express as px\n",
        "\n",
        "%load_ext google.colab.data_table"
      ],
      "execution_count": 0,
      "outputs": []
    },
    {
      "cell_type": "markdown",
      "metadata": {
        "id": "SAcinHNS0KSz",
        "colab_type": "text"
      },
      "source": [
        "### Data\n",
        "We always need to load our data as well. In this case we will be looking at AIDS data from around the world. \n",
        "\n",
        "Our data is usually in csv format, so we will usually load our data with `pd.read_csv`, but if our data is in another format we might need a different pandas function.\n",
        "\n",
        "We pass the location and name of our file to `pd.read_csv` as a string. In this case our data is found at \n",
        "```\n",
        "https://think.cs.vt.edu/corgis/datasets/csv/energy/energy.csv\n",
        "```\n",
        "So our call is:\n",
        "```\n",
        "pd.read_csv('https://think.cs.vt.edu/corgis/datasets/csv/energy/energy.csv')\n",
        "```\n",
        "Finally, we always need to save it to a variable so we can work with the data once it is loaded."
      ]
    },
    {
      "cell_type": "code",
      "metadata": {
        "id": "jPkmWOaWxYvN",
        "colab_type": "code",
        "colab": {}
      },
      "source": [
        "energy=pd.read_csv('https://think.cs.vt.edu/corgis/datasets/csv/energy/energy.csv')"
      ],
      "execution_count": 0,
      "outputs": []
    },
    {
      "cell_type": "markdown",
      "metadata": {
        "id": "XcIaGApa2ahm",
        "colab_type": "text"
      },
      "source": [
        "We now have our data loaded and saved to our variable `aids`. to see our data we just type in aids on its own."
      ]
    },
    {
      "cell_type": "code",
      "metadata": {
        "id": "TIK67h4I2qS9",
        "colab_type": "code",
        "colab": {}
      },
      "source": [
        "energy"
      ],
      "execution_count": 0,
      "outputs": []
    },
    {
      "cell_type": "markdown",
      "metadata": {
        "id": "pzyHBKxa2qxK",
        "colab_type": "text"
      },
      "source": [
        "We can see that our data has 2,805 rows and 85 columns. Each row represents the data for a particular state in a particular year. The columns represent a great deal of different pieces of information regarding energy sources and consumption. Read the table at https://think.cs.vt.edu/corgis/csv/energy/ to see what each column represents.\n",
        "\n",
        "## Visualizations\n",
        "\n",
        "We now need to decide how we are going to visualize our data. The kind of graph you want will depend on what you are trying to display. Plotly has a large number of graphs we can make, but the most common are:\n",
        "- **Line Graph:** We usually use line graphs when we are showing the change in something over time. We use time on our x-axis, and the value we are looking at on our y-axis. Sometimes we use non-time variables on our x-axis, but it is less common.\n",
        "- **Scatter Plot** We use scatter plots to show the relationship between two variables, one on the x-axis and one on the y-axis\n",
        "- **Bar Chart** We use a bar chart to show the amount (how much stuff there is)of a variable in diffferent categories.  The categories may be time based, or they may be something else entirely\n",
        "- **Pie Chart** We use a pie chart to show how a \"whole\" is broken up into parts. For instance, we might show how the whole population of Sky Islands is broken up into freshman, sophmores, juniors, seniors, and staff.\n",
        "\n",
        "Let's see how we might analyze the `energy` data with each of these graph types.\n",
        "\n"
      ]
    },
    {
      "cell_type": "markdown",
      "metadata": {
        "id": "5z0NkLgu4oCd",
        "colab_type": "text"
      },
      "source": [
        "### Line Graph\n",
        "A natural question might be to find out how the consumption of a particular energy source has changed over time. To simplify our analysis, let's just look at Arizona."
      ]
    },
    {
      "cell_type": "code",
      "metadata": {
        "id": "w-Ow-onYnfmu",
        "colab_type": "code",
        "colab": {}
      },
      "source": [
        "# I'm just going to look at Arizona, so lets make an Arizona sub-frame\n",
        "az_mask=energy['State']=='Arizona'\n",
        "az_energy=energy[az_mask]"
      ],
      "execution_count": 0,
      "outputs": []
    },
    {
      "cell_type": "markdown",
      "metadata": {
        "id": "SKMEZ8XksGS8",
        "colab_type": "text"
      },
      "source": [
        "Now let's make a line graph showing how the consumption of natural gas as a source of energy for electric power has changed in Arizona:"
      ]
    },
    {
      "cell_type": "code",
      "metadata": {
        "id": "1CG8GeIOsHOj",
        "colab_type": "code",
        "colab": {}
      },
      "source": [
        "px.line(az_energy,x='Year',y='Consumption.Electric Power.Natural Gas')"
      ],
      "execution_count": 0,
      "outputs": []
    },
    {
      "cell_type": "markdown",
      "metadata": {
        "id": "bhA2hnnvs829",
        "colab_type": "text"
      },
      "source": [
        "We can see that the consumption was fairly low until around 2000, when consumption began to rise quickly until consumption began to fall again. \n",
        "#### Improving it\n",
        "Before we move on to our next graph, let's learn how we can make this one a bit better. When we're making a graph to show information, we always want a title to describe the graph, and our y axis label is unclear.\n",
        "\n",
        "Luckily, Plotly makes it easy to give a graph a title, but it is slightly trickier to change the label. For the title we just add  `title='Our Title'` to our function call. \n",
        "\n",
        "For our y-axis label, or any other time we want to change the label of values from a column we pass a dictionary (we haven't covered these yet, so just copy my syntax) that has the form `{'name of column':'new label'}` we can rename as many columns this way as we want, we just put in a comma to separate them :\n",
        "\n",
        "`{'name of coumn1':'new label1','name of column2':'new label2'}`"
      ]
    },
    {
      "cell_type": "code",
      "metadata": {
        "id": "AfC9SOwau3VQ",
        "colab_type": "code",
        "colab": {}
      },
      "source": [
        "#making our graph and saving it to our variable, fig\n",
        "px.line(az_energy, x='Year',y='Consumption.Electric Power.Natural Gas',\n",
        "            # changing our title\n",
        "            title='Natural Gas Consumption for electric power in Arizona',\n",
        "            # changing our y label (which has data from the column Data.HIV Prevalence.Adults)\n",
        "            labels={'Consumption.Electric Power.Natural Gas':'Natural gas consumption in BTUs'})\n",
        "\n"
      ],
      "execution_count": 0,
      "outputs": []
    },
    {
      "cell_type": "code",
      "metadata": {
        "id": "2HkMw7fp0lse",
        "colab_type": "code",
        "colab": {}
      },
      "source": [
        "#making our graph and saving it to our variable, fig\n",
        "px.line(az_energy, x='Year',y='Consumption.Electric Power.Natural Gas',\n",
        "            # changing our title\n",
        "            title='Natural Gas Consumption for electric power in Arizona',\n",
        "            # changing our y label (which has data from the column Data.HIV Prevalence.Adults)\n",
        "            labels={'Consumption.Electric Power.Natural Gas':'Natural gas consumption in BTUs', 'Year':'Hello, I am your x-label'})"
      ],
      "execution_count": 0,
      "outputs": []
    },
    {
      "cell_type": "markdown",
      "metadata": {
        "id": "c4ZppRs_2M3P",
        "colab_type": "text"
      },
      "source": [
        "### Scatter plot\n",
        "\n",
        "We use a scatter plot when we want to see correlations between two variables. Let's compare electrical power consumption of coal and natural gas to see if there's a correlation. \n",
        "\n",
        "\n"
      ]
    },
    {
      "cell_type": "code",
      "metadata": {
        "id": "D7vM2fuz451z",
        "colab_type": "code",
        "colab": {}
      },
      "source": [
        "px.scatter(az_energy,x='Price.Electric Power.Coal',y='Consumption.Electric Power.Coal')"
      ],
      "execution_count": 0,
      "outputs": []
    },
    {
      "cell_type": "markdown",
      "metadata": {
        "id": "bUAY75V2-_o2",
        "colab_type": "text"
      },
      "source": [
        "We see that there's a strong positive correlation - as price goes up, consumption goes up. This is unusual -- normally as prices go up people buy less, not more. Why do we see the opposite in this case?\n",
        "\n",
        "#### Improving it\n",
        "Let's add a title again, and change the labels to more readable labels (that also include our units). Notice that when we change our x and y labels, our data's labels also change when we hover over a point. \n",
        "\n",
        "Let's also add `'hover_name='Year'` so that the year will be displayed when we hover over a data point, perhaps we can understand our data better with this additional information."
      ]
    },
    {
      "cell_type": "code",
      "metadata": {
        "id": "SYWSbDJGCWwK",
        "colab_type": "code",
        "colab": {}
      },
      "source": [
        "px.scatter(az_energy,x='Price.Electric Power.Coal',y='Consumption.Electric Power.Coal',\n",
        "            title='Arizona Coal consumption vs. Coal Price',\n",
        "            labels={'Consumption.Electric Power.Coal': 'Coal Consumption (billion BTUs)',\n",
        "                    'Price.Electric Power.Coal':'Cost of coal (Dollars/million BTU)'},\n",
        "            hover_name='Year')"
      ],
      "execution_count": 0,
      "outputs": []
    },
    {
      "cell_type": "markdown",
      "metadata": {
        "id": "FeuPkW5kC5Co",
        "colab_type": "text"
      },
      "source": [
        "It seems like the older datapoints are in the lower left corner, and the more recent datapoints are in the upper right. If we assign color based on year, we might be able to see if this pattern holds."
      ]
    },
    {
      "cell_type": "code",
      "metadata": {
        "id": "8mRlKXvTEBTj",
        "colab_type": "code",
        "colab": {}
      },
      "source": [
        "px.scatter(az_energy,x='Price.Electric Power.Coal',y='Consumption.Electric Power.Coal',\n",
        "            title='Arizona Coal consumption vs. Coal Price',\n",
        "            labels={'Consumption.Electric Power.Coal': 'Coal Consumption (billion BTUs)',\n",
        "                    'Price.Electric Power.Coal':'Cost of coal (Dollars/million BTU)'},\n",
        "            hover_name='Year', color='Year')"
      ],
      "execution_count": 0,
      "outputs": []
    },
    {
      "cell_type": "markdown",
      "metadata": {
        "id": "Xc6VhfNWEG8m",
        "colab_type": "text"
      },
      "source": [
        "That looks great! and explains some anomalies in our data."
      ]
    },
    {
      "cell_type": "markdown",
      "metadata": {
        "id": "VVAFqKqUEUJr",
        "colab_type": "text"
      },
      "source": [
        "### Bar Chart\n",
        "Bar charts are good at displaying the quantity of something in different categories. In order to illustrate this example and the pie chart example, let's switch from looking at one state to one time:"
      ]
    },
    {
      "cell_type": "code",
      "metadata": {
        "id": "NvdGAi4CGRqW",
        "colab_type": "code",
        "colab": {}
      },
      "source": [
        "mask_2000=energy['Year']==2000\n",
        "#sorting by values so our states are in alphabetical order when we graph them\n",
        "energy2000=energy[mask_2000].sort_values('State')"
      ],
      "execution_count": 0,
      "outputs": []
    },
    {
      "cell_type": "markdown",
      "metadata": {
        "id": "ZHhasTtEGfPM",
        "colab_type": "text"
      },
      "source": [
        "Now let's make a bar chart demonstrating coal consumption for electric power in each state:"
      ]
    },
    {
      "cell_type": "code",
      "metadata": {
        "id": "Hj_WPmkBG2P1",
        "colab_type": "code",
        "colab": {}
      },
      "source": [
        "px.bar(energy2000, x='State',y='Consumption.Electric Power.Coal',\n",
        "        title='Coal Consumption for electric power by state in 2000',\n",
        "        labels={'Consumption.Electric Power.Coal': 'Coal Consumption (billion BTUs)'})"
      ],
      "execution_count": 0,
      "outputs": []
    },
    {
      "cell_type": "markdown",
      "metadata": {
        "id": "Dl52uAVxHcFR",
        "colab_type": "text"
      },
      "source": [
        "We can see that the biggest consumer in 2000 was Texas, followed by Ohio, Indiana, and Pensylvania."
      ]
    },
    {
      "cell_type": "markdown",
      "metadata": {
        "id": "2uywbyMDIfJ1",
        "colab_type": "text"
      },
      "source": [
        "### Pie Chart\n",
        "Pie Charts are good at showing the parts of a whole. In this case let's look at how total coal consumption for electric power is split up among the states. We'll look at the year 2000 again.\n",
        "\n"
      ]
    },
    {
      "cell_type": "code",
      "metadata": {
        "id": "Cw2F82PKJpUH",
        "colab_type": "code",
        "colab": {}
      },
      "source": [
        "px.pie(energy2000, values='Consumption.Electric Power.Coal', names='State',\n",
        "       title='Coal consumption in 2000 divided by state')"
      ],
      "execution_count": 0,
      "outputs": []
    },
    {
      "cell_type": "markdown",
      "metadata": {
        "id": "qe0_1vSzKEFB",
        "colab_type": "text"
      },
      "source": [
        "et voila"
      ]
    },
    {
      "cell_type": "markdown",
      "metadata": {
        "id": "TcEDoM6gKQdp",
        "colab_type": "text"
      },
      "source": [
        "There are numerous other features of the graph you can change - the fonts, the color pallettes, \n",
        "the background color the tick marks and axes. Almost anything really. If you want to get fancy, go check out plotly's documentation at https://plot.ly/python/"
      ]
    },
    {
      "cell_type": "code",
      "metadata": {
        "id": "-uXN-8jBK8_S",
        "colab_type": "code",
        "colab": {}
      },
      "source": [
        ""
      ],
      "execution_count": 0,
      "outputs": []
    }
  ]
}