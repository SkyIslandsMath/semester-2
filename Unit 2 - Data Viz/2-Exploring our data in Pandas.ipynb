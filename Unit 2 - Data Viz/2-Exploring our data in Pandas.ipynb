{
  "nbformat": 4,
  "nbformat_minor": 0,
  "metadata": {
    "colab": {
      "name": "2- Exploring our data in Pandas.ipynb",
      "provenance": []
    },
    "hide_input": false,
    "kernelspec": {
      "display_name": "Python 3",
      "language": "python",
      "name": "python3"
    },
    "language_info": {
      "codemirror_mode": {
        "name": "ipython",
        "version": 3
      },
      "file_extension": ".py",
      "mimetype": "text/x-python",
      "name": "python",
      "nbconvert_exporter": "python",
      "pygments_lexer": "ipython3",
      "version": "3.7.3"
    },
    "varInspector": {
      "cols": {
        "lenName": 16,
        "lenType": 16,
        "lenVar": 40
      },
      "kernels_config": {
        "python": {
          "delete_cmd_postfix": "",
          "delete_cmd_prefix": "del ",
          "library": "var_list.py",
          "varRefreshCmd": "print(var_dic_list())"
        },
        "r": {
          "delete_cmd_postfix": ") ",
          "delete_cmd_prefix": "rm(",
          "library": "var_list.r",
          "varRefreshCmd": "cat(var_dic_list()) "
        }
      },
      "types_to_exclude": [
        "module",
        "function",
        "builtin_function_or_method",
        "instance",
        "_Feature"
      ],
      "window_display": false
    }
  },
  "cells": [
    {
      "cell_type": "markdown",
      "metadata": {
        "id": "7hrBFYJ38zah",
        "colab_type": "text"
      },
      "source": [
        "# Data Exploration\n",
        "\n",
        "In our last notebook we saw how to import a dataframe using `pandas` and make a scatter plot from the data using `ploty`. We often want to manipulate our data or extract information from it in some way and `pandas` gives us many tools to do this."
      ]
    },
    {
      "cell_type": "markdown",
      "metadata": {
        "id": "ef0kHHhu8zaq",
        "colab_type": "text"
      },
      "source": [
        "As always, we need to import our tools:"
      ]
    },
    {
      "cell_type": "code",
      "metadata": {
        "colab_type": "code",
        "id": "YDwLUFTTc8V3",
        "colab": {}
      },
      "source": [
        "import pandas as pd\n",
        "import plotly.express as px\n",
        "%load_ext google.colab.data_table"
      ],
      "execution_count": 0,
      "outputs": []
    },
    {
      "cell_type": "markdown",
      "metadata": {
        "id": "qv37zKnq8zbD",
        "colab_type": "text"
      },
      "source": [
        "We're going to use a new dataset today -- the titanic dataset, which contains a wealth of information about the passengers that were on the Titanic. Below, we use `pandas` to read the titanic csv file into a dataframe, and call it `titanic`."
      ]
    },
    {
      "cell_type": "code",
      "metadata": {
        "colab_type": "code",
        "id": "69KeVvzxdbUP",
        "colab": {}
      },
      "source": [
        "titanic=pd.read_csv('https://raw.githubusercontent.com/SkyIslandsMath/semester-2/master/data/titanic3.csv')"
      ],
      "execution_count": 0,
      "outputs": []
    },
    {
      "cell_type": "markdown",
      "metadata": {
        "id": "kMv16W6I8zbY",
        "colab_type": "text"
      },
      "source": [
        "You can see below that the meaning of several of the columns is obvious, but others are less so. Most datasets will have some documentation telling you what everything means. I'll just tell you here:\n",
        "- `survived` - Survival (0 = No; 1 = Yes)\n",
        "- `pclass` - Passenger Class (1 = 1st; 2 = 2nd; 3 = 3rd)\n",
        "- `name` - Name\n",
        "- `sex` - Sex\n",
        "- `age` - Age\n",
        "- `sibsp` - Number of Siblings/Spouses Aboard\n",
        "- `parch` - Number of Parents/Children Aboard\n",
        "- `ticket` - Ticket Number\n",
        "- `fare` - Passenger Fare in British pounds.\n",
        "- `cabin` - Cabin\n",
        "- `embarked` - Port of Embarkation (C = Cherbourg; Q = Queenstown; S = Southampton)\n",
        "- `boat` - Lifeboat (if survived)\n",
        "- `body` - Body number (if did not survive and body was recovered)"
      ]
    },
    {
      "cell_type": "code",
      "metadata": {
        "colab_type": "code",
        "id": "tc_UOdGhdef_",
        "colab": {}
      },
      "source": [
        "titanic"
      ],
      "execution_count": 0,
      "outputs": []
    },
    {
      "cell_type": "markdown",
      "metadata": {
        "id": "2W0Q-CU08zbr",
        "colab_type": "text"
      },
      "source": [
        "We might naturally ask some questions of our data. How much did the average ticket cost? How old was the average passenger? Who was the oldest passenger on the titanic? The youngest?\n",
        "\n",
        "We can answer many of these questions quickly with pandas. \n",
        "\n",
        "Let's say we want to find the average age. First,we need to isolate the age column. In pandas, we can pick one column out by putting the name of the column in quotation marks between square brackets. In this case, our age column is:\n",
        "```\n",
        "titanic['age']\n",
        "```\n",
        "If we want to find the average (also known as the mean) of this column, we just use the `.mean()` method on it like so:\n",
        "```\n",
        "titanic['age'].mean()\n",
        "```\n",
        "When we type this code in the code cell below and run it, we see that the average age is just under 30."
      ]
    },
    {
      "cell_type": "code",
      "metadata": {
        "id": "0AtcnlPP8zbv",
        "colab_type": "code",
        "colab": {}
      },
      "source": [
        "titanic['age'].mean()"
      ],
      "execution_count": 0,
      "outputs": []
    },
    {
      "cell_type": "markdown",
      "metadata": {
        "id": "3WcwsqEi8zcB",
        "colab_type": "text"
      },
      "source": [
        "We can use the `.max()` and `.min()` methods to find the oldest and youngest passengers."
      ]
    },
    {
      "cell_type": "code",
      "metadata": {
        "id": "ptnx5Ek28zcI",
        "colab_type": "code",
        "colab": {}
      },
      "source": [
        "titanic['age'].max()"
      ],
      "execution_count": 0,
      "outputs": []
    },
    {
      "cell_type": "code",
      "metadata": {
        "id": "NodnzyiH8zcU",
        "colab_type": "code",
        "colab": {}
      },
      "source": [
        "titanic['age'].min()"
      ],
      "execution_count": 0,
      "outputs": []
    },
    {
      "cell_type": "markdown",
      "metadata": {
        "id": "YvPS1wbs8zce",
        "colab_type": "text"
      },
      "source": [
        "So the oldest passenger was 80 years old, and the youngest was 0.17 years (or about 2 months) old.\n",
        "\n",
        "### Visualizing age on the titanic\n",
        "\n",
        "We can see how ages are distributed by calling the plotly express function, histogram, with `px.histogram()`. As with `px.scatter()`, we need to pass our dataframe as the first argument, we then pass the column we want to visualize as a string to the x argument:"
      ]
    },
    {
      "cell_type": "code",
      "metadata": {
        "id": "tcBcpFbc8zch",
        "colab_type": "code",
        "colab": {}
      },
      "source": [
        "px.histogram(titanic, x='age')"
      ],
      "execution_count": 0,
      "outputs": []
    },
    {
      "cell_type": "markdown",
      "metadata": {
        "id": "LNy1YjhX8zcr",
        "colab_type": "text"
      },
      "source": [
        "In the graph above, the height of each column represents how many passengers in the given age range there were. We can see that there were a lot of people aged 20-50 , and almost no one over the age of 65. Where were all the old rich people? "
      ]
    },
    {
      "cell_type": "markdown",
      "metadata": {
        "id": "pVL0EPAW8zcv",
        "colab_type": "text"
      },
      "source": [
        "### Assignment\n",
        "1. Use the same method we just used, but on the `fare` column to find out how much the average ticket, the most expensive ticket, and the least expensive ticket were."
      ]
    },
    {
      "cell_type": "code",
      "metadata": {
        "id": "tyWin4WL8zcy",
        "colab_type": "code",
        "colab": {}
      },
      "source": [
        "#find the average ticket price here"
      ],
      "execution_count": 0,
      "outputs": []
    },
    {
      "cell_type": "code",
      "metadata": {
        "id": "BKKU-Rcw8zc9",
        "colab_type": "code",
        "colab": {}
      },
      "source": [
        "#find the most expensive ticket here"
      ],
      "execution_count": 0,
      "outputs": []
    },
    {
      "cell_type": "code",
      "metadata": {
        "id": "LRAyKCa28zdH",
        "colab_type": "code",
        "colab": {}
      },
      "source": [
        "#find the least expensive ticket here"
      ],
      "execution_count": 0,
      "outputs": []
    },
    {
      "cell_type": "markdown",
      "metadata": {
        "id": "0Ju1OAmU8zdR",
        "colab_type": "text"
      },
      "source": [
        "2. Make a histogram of the fare column, how were the prices distributed?"
      ]
    },
    {
      "cell_type": "code",
      "metadata": {
        "id": "w-a5f4it8zdU",
        "colab_type": "code",
        "colab": {}
      },
      "source": [
        ""
      ],
      "execution_count": 0,
      "outputs": []
    },
    {
      "cell_type": "markdown",
      "metadata": {
        "id": "BPglllRK8zdg",
        "colab_type": "text"
      },
      "source": [
        "### a shortcut\n",
        "It is so common to ask these sorts of questions, that pandas has a handy method to print them all out at once. It is easier to do it this way when we just need to read off the numbers, but it isn't helpful if we need to use the values in our program. To see all of these summary statistics at once, just type in `titanic.describe()`. "
      ]
    },
    {
      "cell_type": "code",
      "metadata": {
        "id": "6uS_0yQt8zdm",
        "colab_type": "code",
        "colab": {}
      },
      "source": [
        "titanic.describe()"
      ],
      "execution_count": 0,
      "outputs": []
    },
    {
      "cell_type": "markdown",
      "metadata": {
        "id": "lksG6_Cy8zd0",
        "colab_type": "text"
      },
      "source": [
        "### Survival\n",
        "\n",
        "We can see that there are 1309 rows in our dataset - so there were 1309 passengers aboard (in the dataset, which doesn't include crew, and 4 passengers are missing from it). How many of them survived? Our survived column has a value of `1` if they survived and `0` if they didn't, so if we add up all the ones in the column we will have our answer! Just run the code below:"
      ]
    },
    {
      "cell_type": "code",
      "metadata": {
        "id": "1ZaRPQCS8zd3",
        "colab_type": "code",
        "colab": {}
      },
      "source": [
        "titanic['survived'].sum()"
      ],
      "execution_count": 0,
      "outputs": []
    },
    {
      "cell_type": "markdown",
      "metadata": {
        "id": "vhGc-cUG8zeF",
        "colab_type": "text"
      },
      "source": [
        "We see that 500 of the passengers in our dataset survived. We can find the percentage of passengers that survived by taking the mean of the survived column:"
      ]
    },
    {
      "cell_type": "code",
      "metadata": {
        "id": "xWbrRG758zeI",
        "colab_type": "code",
        "colab": {}
      },
      "source": [
        "titanic['survived'].mean()"
      ],
      "execution_count": 0,
      "outputs": []
    },
    {
      "cell_type": "markdown",
      "metadata": {
        "id": "rs3rNu-Z8zeR",
        "colab_type": "text"
      },
      "source": [
        "We can see that about 0.38 -- 38% -- of passengers survived."
      ]
    },
    {
      "cell_type": "markdown",
      "metadata": {
        "id": "Fx2nFFGc8zeT",
        "colab_type": "text"
      },
      "source": [
        "## Sub Frames\n",
        "\n",
        "We often want to look at a specific subset of our data and see what information it contains. The easiest way to do this is to create what is called a 'mask'. It is just a series of `True` or `False` values based on a condition. \n",
        "\n",
        "Let's say we want to see all of the infants on board-- say those people younger than 1. We would begin with a logical test of the values in the age column: `titanic['age']<1`. We'll need to save it to a variable I'll call `mask` so we can use it. "
      ]
    },
    {
      "cell_type": "code",
      "metadata": {
        "colab_type": "code",
        "id": "fwTSZCNkdfUL",
        "colab": {}
      },
      "source": [
        "mask=titanic['age']<1"
      ],
      "execution_count": 0,
      "outputs": []
    },
    {
      "cell_type": "markdown",
      "metadata": {
        "id": "FxETdpDL86qS",
        "colab_type": "text"
      },
      "source": [
        "We can now use our `mask` by using it just like an index in square brackets: `titanic[mask]`. We'll assign this new sub-frame to a variable called `infants`."
      ]
    },
    {
      "cell_type": "code",
      "metadata": {
        "colab_type": "code",
        "id": "qY_wp2kXjNVW",
        "colab": {}
      },
      "source": [
        "infants=titanic[mask]\n",
        "infants"
      ],
      "execution_count": 0,
      "outputs": []
    },
    {
      "cell_type": "markdown",
      "metadata": {
        "id": "b9865ZkV9Brn",
        "colab_type": "text"
      },
      "source": [
        "We can see there were twelve such passengers. We can again use `.sum()` on the survived column to see how many survived, and use `.mean()` to see the rate of survival:"
      ]
    },
    {
      "cell_type": "code",
      "metadata": {
        "id": "kNecrcOa8ze6",
        "colab_type": "code",
        "colab": {}
      },
      "source": [
        "print(infants['survived'].sum())\n",
        "print(infants['survived'].mean())"
      ],
      "execution_count": 0,
      "outputs": []
    },
    {
      "cell_type": "markdown",
      "metadata": {
        "id": "TCm-K7Mr8zfD",
        "colab_type": "text"
      },
      "source": [
        "We can see that 10 survived, or about 83%, Much higher than the overall average."
      ]
    },
    {
      "cell_type": "markdown",
      "metadata": {
        "id": "QVHcBXEH8zfG",
        "colab_type": "text"
      },
      "source": [
        "## Assignment\n",
        "\n",
        "Find out if men or women survived at the same rate.\n",
        "\n",
        "**Step 1:**\n",
        "Make two masks: `m_mask` and `f_mask`\n",
        "`m_mask` should be True if the sex column equals `'male'`\n",
        "and the `f_mask` should be true if the sex column equals `'female'`.\n",
        "\n",
        "**Step 2:**\n",
        "Use the masks to make two new sub-frames `males` and `females`.\n",
        "\n",
        "**Step 3:**\n",
        "Use the `.sum()` method on the two subframes to find out the total number of male and female passengers survived.\n",
        "\n",
        "**Step 4:**\n",
        "Use the `.mean()` method on the subframes to find their respective rates of survival."
      ]
    },
    {
      "cell_type": "code",
      "metadata": {
        "id": "TB9XXGFZ8zfJ",
        "colab_type": "code",
        "colab": {}
      },
      "source": [
        ""
      ],
      "execution_count": 0,
      "outputs": []
    }
  ]
}