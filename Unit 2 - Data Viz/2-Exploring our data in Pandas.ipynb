{
 "cells": [
  {
   "cell_type": "markdown",
   "metadata": {},
   "source": [
    "# Data Exploration\n",
    "\n",
    "In our last notebook we saw how to import a dataframe using `pandas` and make a scatter plot from the data using `ploty`. We often want to manipulate our data or extract information from it in some way and `pandas` gives us many tools to do this."
   ]
  },
  {
   "cell_type": "markdown",
   "metadata": {},
   "source": [
    "As always, we need to import our tools:"
   ]
  },
  {
   "cell_type": "code",
   "execution_count": null,
   "metadata": {
    "colab": {},
    "colab_type": "code",
    "id": "YDwLUFTTc8V3"
   },
   "outputs": [],
   "source": [
    "import pandas as pd\n",
    "import plotly.express as px\n",
    "%load_ext google.colab.data_table"
   ]
  },
  {
   "cell_type": "markdown",
   "metadata": {},
   "source": [
    "We're going to use a new dataset today -- the titanic dataset, which contains a wealth of information about the passengers that were on the Titanic. Below, we use `pandas` to read the titanic csv file into a dataframe, and call it `titanic`."
   ]
  },
  {
   "cell_type": "code",
   "execution_count": null,
   "metadata": {
    "colab": {},
    "colab_type": "code",
    "id": "69KeVvzxdbUP"
   },
   "outputs": [],
   "source": [
    "titanic=pd.read_csv('https://raw.githubusercontent.com/SkyIslandsMath/semester-2/master/data/titanic3.csv')"
   ]
  },
  {
   "cell_type": "markdown",
   "metadata": {},
   "source": [
    "You can see below that the meaning of several of the columns is obvious, but others are less so. Most datasets will have some documentation telling you what everything means. I'll just tell you here:\n",
    "- `survived` - Survival (0 = No; 1 = Yes)\n",
    "- `pclass` - Passenger Class (1 = 1st; 2 = 2nd; 3 = 3rd)\n",
    "- `name` - Name\n",
    "- `sex` - Sex\n",
    "- `age` - Age\n",
    "- `sibsp` - Number of Siblings/Spouses Aboard\n",
    "- `parch` - Number of Parents/Children Aboard\n",
    "- `ticket` - Ticket Number\n",
    "- `fare` - Passenger Fare in British pounds.\n",
    "- `cabin` - Cabin\n",
    "- `embarked` - Port of Embarkation (C = Cherbourg; Q = Queenstown; S = Southampton)\n",
    "- `boat` - Lifeboat (if survived)\n",
    "- `body` - Body number (if did not survive and body was recovered)"
   ]
  },
  {
   "cell_type": "code",
   "execution_count": null,
   "metadata": {
    "colab": {
     "base_uri": "https://localhost:8080/",
     "height": 617
    },
    "colab_type": "code",
    "id": "tc_UOdGhdef_",
    "outputId": "30add68f-170a-48cc-b1c8-8c661cc6f059"
   },
   "outputs": [],
   "source": [
    "titanic"
   ]
  },
  {
   "cell_type": "markdown",
   "metadata": {},
   "source": [
    "We might naturally ask some questions of our data. How much did the average ticket cost? How old was the average passenger? Who was the oldest passenger on the titanic? The youngest?\n",
    "\n",
    "We can answer many of these questions quickly with pandas. \n",
    "\n",
    "Let's say we want to find the average age. First,we need to isolate the age column. In pandas, we can pick one column out by putting the name of the column in quotation marks between square brackets. In this case, our age column is:\n",
    "```\n",
    "titanic['age']\n",
    "```\n",
    "If we want to find the average (also known as the mean) of this column, we just use the `.mean()` method on it like so:\n",
    "```\n",
    "titanic['age'].mean()\n",
    "```\n",
    "When we type this code in the code cell below and run it, we see that the average age is just under 30."
   ]
  },
  {
   "cell_type": "code",
   "execution_count": null,
   "metadata": {},
   "outputs": [],
   "source": [
    "titanic['age'].mean()"
   ]
  },
  {
   "cell_type": "markdown",
   "metadata": {},
   "source": [
    "We can use the `.max()` and `.min()` methods to find the oldest and youngest passengers."
   ]
  },
  {
   "cell_type": "code",
   "execution_count": null,
   "metadata": {},
   "outputs": [],
   "source": [
    "titanic['age'].max()"
   ]
  },
  {
   "cell_type": "code",
   "execution_count": null,
   "metadata": {},
   "outputs": [],
   "source": [
    "titanic['age'].min()"
   ]
  },
  {
   "cell_type": "markdown",
   "metadata": {},
   "source": [
    "So the oldest passenger was 80 years old, and the youngest was 0.17 years (or about 2 months) old.\n",
    "\n",
    "### Visualizing age on the titanic\n",
    "\n",
    "We can see how ages are distributed by calling the plotly express function, histogram, with `px.histogram()`. As with `px.scatter()`, we need to pass our dataframe as the first argument, we then pass the column we want to visualize as a string to the x argument:"
   ]
  },
  {
   "cell_type": "code",
   "execution_count": null,
   "metadata": {},
   "outputs": [],
   "source": [
    "px.histogram(titanic, x='age')"
   ]
  },
  {
   "cell_type": "markdown",
   "metadata": {},
   "source": [
    "In the graph above, the height of each column represents how many passengers in the given age range there were. We can see that there were a lot of people aged 20-50 , and almost no one over the age of 65. Where were all the old rich people? "
   ]
  },
  {
   "cell_type": "markdown",
   "metadata": {},
   "source": [
    "### Assignment\n",
    "1. Use the same method we just used, but on the `fare` column to find out how much the average ticket, the most expensive ticket, and the least expensive ticket were."
   ]
  },
  {
   "cell_type": "code",
   "execution_count": null,
   "metadata": {},
   "outputs": [],
   "source": [
    "#find the average ticket price here"
   ]
  },
  {
   "cell_type": "code",
   "execution_count": null,
   "metadata": {},
   "outputs": [],
   "source": [
    "#find the most expensive ticket here"
   ]
  },
  {
   "cell_type": "code",
   "execution_count": null,
   "metadata": {},
   "outputs": [],
   "source": [
    "#find the least expensive ticket here"
   ]
  },
  {
   "cell_type": "markdown",
   "metadata": {},
   "source": [
    "2. Make a histogram of the fare column, how were the prices distributed?"
   ]
  },
  {
   "cell_type": "code",
   "execution_count": null,
   "metadata": {},
   "outputs": [],
   "source": []
  },
  {
   "cell_type": "markdown",
   "metadata": {},
   "source": [
    "### a shortcut\n",
    "It is so common to ask these sorts of questions, that pandas has a handy method to print them all out at once. It is easier to do it this way when we just need to read off the numbers, but it isn't helpful if we need to use the values in our program. To see all of these summary statistics at once, just type in `titanic.describe()`. "
   ]
  },
  {
   "cell_type": "code",
   "execution_count": null,
   "metadata": {},
   "outputs": [],
   "source": [
    "titanic.describe()"
   ]
  },
  {
   "cell_type": "markdown",
   "metadata": {},
   "source": [
    "### Survival\n",
    "\n",
    "We can see that there are 1309 rows in our dataset - so there were 1309 passengers aboard (in the dataset, which doesn't include crew, and 4 passengers are missing from it). How many of them survived? Our survived column has a value of `1` if they survived and `0` if they didn't, so if we add up all the ones in the column we will have our answer! Just run the code below:"
   ]
  },
  {
   "cell_type": "code",
   "execution_count": null,
   "metadata": {},
   "outputs": [],
   "source": [
    "titanic['survived'].sum()"
   ]
  },
  {
   "cell_type": "markdown",
   "metadata": {},
   "source": [
    "We see that 500 of the passengers in our dataset survived. We can find the percentage of passengers that survived by taking the mean of the survived column:"
   ]
  },
  {
   "cell_type": "code",
   "execution_count": null,
   "metadata": {},
   "outputs": [],
   "source": [
    "titanic['survived'].mean()"
   ]
  },
  {
   "cell_type": "markdown",
   "metadata": {},
   "source": [
    "We can see that about 0.38 -- 38% -- of passengers survived."
   ]
  },
  {
   "cell_type": "markdown",
   "metadata": {},
   "source": [
    "## Sub Frames\n",
    "\n",
    "We often want to look at a specific subset of our data and see what information it contains. The easiest way to do this is to create what is called a 'mask'. It is just a series of `True` or `False` values based on a condition. \n",
    "\n",
    "Let's say we want to see all of the infants on board-- say those people younger than 1. We would begin with a logical test of the values in the age column: `titanic['age']<1`. We'll need to save it to a variable I'll call `mask` so we can use it. "
   ]
  },
  {
   "cell_type": "code",
   "execution_count": null,
   "metadata": {
    "colab": {},
    "colab_type": "code",
    "id": "fwTSZCNkdfUL"
   },
   "outputs": [],
   "source": [
    "mask=titanic['age']<1"
   ]
  },
  {
   "cell_type": "markdown",
   "metadata": {
    "colab": {},
    "colab_type": "code",
    "id": "nU7XKpdbjMfH"
   },
   "source": [
    "We can now use our `mask` by using it just like an index in square brackets: `titanic[mask]`. We'll assign this new sub-frame to a variable called `infants`."
   ]
  },
  {
   "cell_type": "code",
   "execution_count": null,
   "metadata": {
    "colab": {
     "base_uri": "https://localhost:8080/",
     "height": 542
    },
    "colab_type": "code",
    "id": "qY_wp2kXjNVW",
    "outputId": "09d7c06d-14b3-4c0f-873e-b81534c5bbde"
   },
   "outputs": [],
   "source": [
    "infants=titanic[mask]\n",
    "infants"
   ]
  },
  {
   "cell_type": "markdown",
   "metadata": {
    "colab": {},
    "colab_type": "code",
    "id": "oaa-0nvIl6mT"
   },
   "source": [
    "We can see there were twelve such passengers. We can again use `.sum()` on the survived column to see how many survived, and use `.mean()` to see the rate of survival:"
   ]
  },
  {
   "cell_type": "code",
   "execution_count": null,
   "metadata": {},
   "outputs": [],
   "source": [
    "print(infants['survived'].sum())\n",
    "print(infants['survived'].mean())"
   ]
  },
  {
   "cell_type": "markdown",
   "metadata": {},
   "source": [
    "We can see that 10 survived, or about 83%, Much higher than the overall average."
   ]
  },
  {
   "cell_type": "markdown",
   "metadata": {},
   "source": [
    "## Assignment\n",
    "\n",
    "Find out if men or women survived at the same rate.\n",
    "\n",
    "**Step 1:**\n",
    "Make two masks: `m_mask` and `f_mask`\n",
    "`m_mask` should be True if the sex column equals `'male'`\n",
    "and the `f_mask` should be true if the sex column equals `'female'`.\n",
    "\n",
    "**Step 2:**\n",
    "Use the masks to make two new sub-frames `males` and `females`.\n",
    "\n",
    "**Step 3:**\n",
    "Use the `.sum()` method on the two subframes to find out the total number of male and female passengers survived.\n",
    "\n",
    "**Step 4:**\n",
    "Use the `.mean()` method on the subframes to find their respective rates of survival."
   ]
  },
  {
   "cell_type": "code",
   "execution_count": null,
   "metadata": {},
   "outputs": [],
   "source": []
  }
 ],
 "metadata": {
  "colab": {
   "name": "2- Exploring our data in Pandas.ipynb",
   "provenance": []
  },
  "hide_input": false,
  "kernelspec": {
   "display_name": "Python 3",
   "language": "python",
   "name": "python3"
  },
  "language_info": {
   "codemirror_mode": {
    "name": "ipython",
    "version": 3
   },
   "file_extension": ".py",
   "mimetype": "text/x-python",
   "name": "python",
   "nbconvert_exporter": "python",
   "pygments_lexer": "ipython3",
   "version": "3.7.3"
  },
  "varInspector": {
   "cols": {
    "lenName": 16,
    "lenType": 16,
    "lenVar": 40
   },
   "kernels_config": {
    "python": {
     "delete_cmd_postfix": "",
     "delete_cmd_prefix": "del ",
     "library": "var_list.py",
     "varRefreshCmd": "print(var_dic_list())"
    },
    "r": {
     "delete_cmd_postfix": ") ",
     "delete_cmd_prefix": "rm(",
     "library": "var_list.r",
     "varRefreshCmd": "cat(var_dic_list()) "
    }
   },
   "types_to_exclude": [
    "module",
    "function",
    "builtin_function_or_method",
    "instance",
    "_Feature"
   ],
   "window_display": false
  }
 },
 "nbformat": 4,
 "nbformat_minor": 1
}
