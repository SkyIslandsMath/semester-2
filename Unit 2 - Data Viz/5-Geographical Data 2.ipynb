{
 "cells": [
  {
   "cell_type": "markdown",
   "metadata": {},
   "source": [
    "# Choropleths\n",
    "\n",
    "In our last notebook we made geographic scatter plots, where we essentially plot our data on top of a map. In this section we'll be exploring choropleths, where our map is actually made up of our data. That is to say, the way we draw our map changes based on our data. The most usual way is to vary the colors of our map based on data values.  Again plotly express makes our life easier with two built in functions: `px.choropleth` and `px.choropleth_mapbox`. \n",
    "\n",
    "## Country Choropleth Example\n",
    "Let's load some data and see an example. We'll start out by looking at the gapminder data again."
   ]
  },
  {
   "cell_type": "code",
   "execution_count": null,
   "metadata": {},
   "outputs": [],
   "source": [
    "#load your tools: pandas and plotly.express:\n",
    "\n",
    "\n",
    "%load_ext google.colab.data_table"
   ]
  },
  {
   "cell_type": "code",
   "execution_count": null,
   "metadata": {},
   "outputs": [],
   "source": [
    "# our data is stored at https://raw.githubusercontent.com/SkyIslandsMath/semester-2/master/data/gapminder.csv \n",
    "# use pandas to load our data and save it to a variable named data\n",
    "\n",
    "#enter the name of the variable on its own on the next line so our data is displayed\n"
   ]
  },
  {
   "cell_type": "markdown",
   "metadata": {},
   "source": [
    "Let's clean our data up a little by dropping the rows that have missing values, and let's narrow our data to one year, say 1970."
   ]
  },
  {
   "cell_type": "code",
   "execution_count": null,
   "metadata": {},
   "outputs": [],
   "source": [
    "#dropping rows with missing values\n",
    "data=data.dropna()\n",
    "#making our mask and applying it \n",
    "year_mask=data['Year']==1970\n",
    "year_data=data[year_mask]\n",
    "year_data"
   ]
  },
  {
   "cell_type": "markdown",
   "metadata": {},
   "source": [
    "Now we're ready to make our choropleth. Let's change the color of each country based on the country's fertility rate. We call `px.choropleth` and we need to pass it our data, the column of our data that contains our locations, the name of the column that we want to vary our colors, and the type of location we're using (coutries here)."
   ]
  },
  {
   "cell_type": "code",
   "execution_count": null,
   "metadata": {},
   "outputs": [],
   "source": [
    "#enter our year_data, loctions should equal our Country column, and color should be our fertility colomn\n",
    "px.choropleth(,locations=,color=,locationmode='country names')"
   ]
  },
  {
   "cell_type": "markdown",
   "metadata": {},
   "source": [
    "Not bad, but let's use some of the other options we've learned about to make it a little nicer."
   ]
  },
  {
   "cell_type": "code",
   "execution_count": null,
   "metadata": {},
   "outputs": [],
   "source": [
    "#let's now look at our whole dataframe for all years, and use the years column for our animation frame\n",
    "px.choropleth(data,\n",
    "              locations='Country',\n",
    "              animation_frame=,\n",
    "              animation_group='Country',\n",
    "              color='fertility',\n",
    "              range_color=[0,9],\n",
    "              color_continuous_scale='YlGnBu',\n",
    "              projection='robinson',\n",
    "              locationmode='country names',\n",
    "              title='World Fertility Rates (children per woman)',\n",
    "              template='plotly_dark')"
   ]
  },
  {
   "cell_type": "markdown",
   "metadata": {},
   "source": [
    "Awesome! We can see most of the world turn a pale yellow as fertility rates around the world go down.\n",
    "\n",
    "You may also have noticed that I used a new argument `template='plotly_dark'`, this is one of several templates that change many details of our graph at once. The most notable change is the background color, but there are other changes that are more noticable in other types of plots. The available templates are: \n",
    "```\n",
    "'ggplot2', 'seaborn', 'simple_white', 'plotly',\n",
    "'plotly_white', 'plotly_dark', 'presentation', 'xgridoff',\n",
    "'ygridoff', 'gridon', and 'none'.\n",
    "```\n",
    "Feel free to try them out."
   ]
  },
  {
   "cell_type": "markdown",
   "metadata": {},
   "source": [
    "## States choropleth\n",
    "\n",
    "Plotly also has a built-in method for choropleths of U.S. states. the only real difference is for the argument `locationmode=` we use `'USA-states'` instead of `'country names'`. Our data has to contain a column with state abbreviations (full state names don't work) instead of country names. \n",
    "\n",
    "The CDC (Centers for Disease Control) keeps track of the spread of the flu virus in the U.S., every week it assigns a number from 0 to 10 for each state that indicates how severe the flu is there. A 0 indicates few or no cases of flu, whereas a 10 is a severe outbreak. I've downloaded their data since the fall of 2017 until a couple of weeks ago. I've also cleaned it up a bit and you can find it at \n",
    "```\n",
    "https://raw.githubusercontent.com/SkyIslandsMath/semester-2/master/data/flu.csv\n",
    "```\n",
    "Let's see how the flu develops each year."
   ]
  },
  {
   "cell_type": "code",
   "execution_count": null,
   "metadata": {},
   "outputs": [],
   "source": [
    "#read our data file and save it to a variable called flu\n",
    "\n",
    "#enter the name of our dataframe on it's own line so we can see the data\n"
   ]
  },
  {
   "cell_type": "code",
   "execution_count": null,
   "metadata": {},
   "outputs": [],
   "source": [
    "#make our choropleth, pass it our dataframe, set the color to the ACTIVITY LEVEL column, the locations to the STATE column\n",
    "#and set the animation_frame to the WEEKEND column\n",
    "px.choropleth(\n",
    "       ,\n",
    "    color=,\n",
    "    range_color=[0,10],\n",
    "    locations='STATE',\n",
    "    locationmode='USA-states',\n",
    "    color_continuous_scale='YlOrRd',\n",
    "    scope='usa' # the scope argument tells plotly to only draw the usa, other options are 'world' (this is the default), 'europe', 'asia', 'africa', 'north america', or 'south america'\n",
    "    animation_frame=,\n",
    "    hover_data=['ACTIVITY LEVEL LABEL'],\n",
    "    title='Flu Severity by State'\n",
    ")"
   ]
  },
  {
   "cell_type": "markdown",
   "metadata": {},
   "source": [
    "The flu season starts every year in the late fall or early winter. What part of the U.S. does it seem to commonly start in?"
   ]
  },
  {
   "cell_type": "markdown",
   "metadata": {},
   "source": [
    "## Assignment"
   ]
  },
  {
   "cell_type": "markdown",
   "metadata": {},
   "source": [
    "CORGIS has a dataset of State demographic information from 2015. The columns are described at: \n",
    "https://corgis-edu.github.io/corgis/csv/state_demographics/\n",
    "but load the data from the version found here :\n",
    "```\n",
    "https://raw.githubusercontent.com/SkyIslandsMath/semester-2/master/data/state_demographics.csv\n",
    "```\n",
    "I added a column with state abbreviations to it so that it is compatible with `px.choropleth`.\n",
    "\n",
    "Use the data to make a choropleth or five. Make sure to give them titles so we know what we're looking at."
   ]
  },
  {
   "cell_type": "code",
   "execution_count": null,
   "metadata": {},
   "outputs": [],
   "source": []
  }
 ],
 "metadata": {
  "hide_input": false,
  "kernelspec": {
   "display_name": "Python 3",
   "language": "python",
   "name": "python3"
  },
  "language_info": {
   "codemirror_mode": {
    "name": "ipython",
    "version": 3
   },
   "file_extension": ".py",
   "mimetype": "text/x-python",
   "name": "python",
   "nbconvert_exporter": "python",
   "pygments_lexer": "ipython3",
   "version": "3.7.3"
  },
  "varInspector": {
   "cols": {
    "lenName": 16,
    "lenType": 16,
    "lenVar": 40
   },
   "kernels_config": {
    "python": {
     "delete_cmd_postfix": "",
     "delete_cmd_prefix": "del ",
     "library": "var_list.py",
     "varRefreshCmd": "print(var_dic_list())"
    },
    "r": {
     "delete_cmd_postfix": ") ",
     "delete_cmd_prefix": "rm(",
     "library": "var_list.r",
     "varRefreshCmd": "cat(var_dic_list()) "
    }
   },
   "types_to_exclude": [
    "module",
    "function",
    "builtin_function_or_method",
    "instance",
    "_Feature"
   ],
   "window_display": false
  }
 },
 "nbformat": 4,
 "nbformat_minor": 2
}
