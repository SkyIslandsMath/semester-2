{
 "cells": [
  {
   "cell_type": "markdown",
   "metadata": {},
   "source": [
    "# Geographic Plots\n",
    "\n",
    "Plotting information in a geographic context is often very informative. It can convey a large amount of information in one plot, and informs us about the world around us. There are a couple of different plots that are particularly useful - scatter plots and choropleths. Personally, I'm a big fan of choropleths - I think they're pretty."
   ]
  },
  {
   "cell_type": "markdown",
   "metadata": {},
   "source": [
    "## Geographic Scatter Plots\n",
    "\n",
    "For a geographic scatter plot, we need to know the latitude and longitude of our data. There are ways to look up this information if we don't have it, but let's stick to datasets that already have them. \n",
    "\n",
    "We'll start by looking at the larger cities of the world- those with a population over 1 million (I believe our data is a few years old so the population numbers are a little off). \n",
    "```'https://raw.githubusercontent.com/SkyIslandsMath/semester-2/master/data/worldcitiespop.csv'```\n",
    "Let's import our tools and get our data loaded:"
   ]
  },
  {
   "cell_type": "code",
   "execution_count": null,
   "metadata": {},
   "outputs": [],
   "source": [
    "# import pandas and plotly here\n",
    "\n",
    "\n",
    "\n",
    "%load_ext google.colab.data_table"
   ]
  },
  {
   "cell_type": "code",
   "execution_count": null,
   "metadata": {},
   "outputs": [],
   "source": [
    "# enter the address of our data into pd.read_csv here \n",
    "cities=pd.read_csv('')"
   ]
  },
  {
   "cell_type": "code",
   "execution_count": null,
   "metadata": {},
   "outputs": [],
   "source": [
    "cities"
   ]
  },
  {
   "cell_type": "markdown",
   "metadata": {},
   "source": [
    "Looking at our data, we see that we have 279 cities with their country, population, latitude, and longitude.\n",
    "\n",
    "Let's make a map of the airports of the world.\n",
    "\n",
    "We will use `px.scatter_geo`, we just need to pass it our dataframe, and tell it where the latitudes and longitudes are:\n"
   ]
  },
  {
   "cell_type": "code",
   "execution_count": null,
   "metadata": {},
   "outputs": [],
   "source": [
    "#pass scatter_geo our dataframe, then enter the name of the latitude and longitude columns to the lat and lon arguments\n",
    "px.scatter_geo(,lat='',lon='')"
   ]
  },
  {
   "cell_type": "markdown",
   "metadata": {},
   "source": [
    "Just to give it some color, let's vary the size and color by population. Let's also change the opacity(opacity goes from 0 to 1 where 0 is clear and 1 is opaque) so we can see the land underneath our points."
   ]
  },
  {
   "cell_type": "code",
   "execution_count": null,
   "metadata": {},
   "outputs": [],
   "source": [
    "#pass the population column to our color and population arguments\n",
    "px.scatter_geo(cities,\n",
    "               lat='Latitude',\n",
    "               lon='Longitude',\n",
    "               color='',\n",
    "               size='',\n",
    "               opacity=0.5,\n",
    "               hover_name='City')"
   ]
  },
  {
   "cell_type": "markdown",
   "metadata": {},
   "source": [
    "We can change our color scale with the `color_continuous_scale=` argument. If you run the cell below, you will see some of the available color scales."
   ]
  },
  {
   "cell_type": "code",
   "execution_count": null,
   "metadata": {},
   "outputs": [],
   "source": [
    "px.colors.sequential.swatches()"
   ]
  },
  {
   "cell_type": "markdown",
   "metadata": {},
   "source": [
    "One of the fun things we can do in plotly is to play with the map projection we use. The available projections are:\n",
    "```\n",
    "'equirectangular', 'mercator', 'orthographic', 'natural earth', 'kavrayskiy7', 'miller', 'robinson', 'eckert4', 'azimuthal equal area', 'azimuthal equidistant', 'conic equal area', 'conic conformal', 'conic equidistant', 'gnomonic', 'stereographic', 'mollweide', 'hammer', 'transverse mercator', 'albers usa', 'winkel tripel', 'aitoff', or 'sinusoidal'\n",
    "```\n",
    "We just pass the projection we want to use as an argument to `projection=`.I'm a big fan of `orthographic`. \n",
    "In the cell below,try passing `Rainbow` to our color scale, and `orthographic` to our projection.\n",
    "\n"
   ]
  },
  {
   "cell_type": "code",
   "execution_count": null,
   "metadata": {},
   "outputs": [],
   "source": [
    "px.scatter_geo(cities,\n",
    "               lat='Latitude',\n",
    "               lon='Longitude',\n",
    "               color='Population',\n",
    "               size='Population',\n",
    "               opacity=0.5,\n",
    "               projection='',\n",
    "               color_continuous_scale='',\n",
    "               hover_name='City')"
   ]
  },
  {
   "cell_type": "markdown",
   "metadata": {},
   "source": [
    "### Mapbox\n",
    "We can also place our geographic scatter plot on top of a web mapping tool (like a google map, but free) called mapbox. This has some advantages - it can contain more information like borders, roads, and mountains - but we can't play with the projection or do some other fun things. To use the mapbox tool we call `px.scatter_mapbox`. We **MUST** pass an argument to `mapbox_style=` or the map won't plot -- the allowed styles are :\n",
    "```\n",
    "'open-street-map', 'white-bg', 'carto-positron', 'carto-darkmatter', \n",
    "'stamen- terrain', 'stamen-toner', 'stamen-watercolor'\n",
    "```\n",
    "Enter one of these options below to give it a try:"
   ]
  },
  {
   "cell_type": "code",
   "execution_count": null,
   "metadata": {},
   "outputs": [],
   "source": [
    "px.scatter_mapbox(cities,\n",
    "                  lat='Latitude',\n",
    "                  lon='Longitude',\n",
    "                  color='Population',\n",
    "                  size='Population',\n",
    "                  opacity=0.5,\n",
    "                  color_continuous_scale='Rainbow',\n",
    "                  hover_name='City',\n",
    "                  mapbox_style='')"
   ]
  },
  {
   "cell_type": "markdown",
   "metadata": {},
   "source": [
    "You may have to zoom out -- sometimes it ends up zoomed in on a random part of the world. You can set the starting zoom level with `zoom=`. A zoom of 0 shows the whole world, give it a try"
   ]
  },
  {
   "cell_type": "code",
   "execution_count": null,
   "metadata": {},
   "outputs": [],
   "source": [
    "px.scatter_mapbox(cities,\n",
    "                  lat='Latitude',\n",
    "                  lon='Longitude',\n",
    "                  color='Population',\n",
    "                  size='Population',\n",
    "                  opacity=0.5,\n",
    "                  color_continuous_scale='Rainbow',\n",
    "                  hover_name='City',\n",
    "                  mapbox_style='open-street-map',\n",
    "                  zoom=\n",
    "                 )"
   ]
  },
  {
   "cell_type": "markdown",
   "metadata": {},
   "source": [
    "## Assignment. \n",
    "There is a dataset with historical volcano data located at:\n",
    "```\n",
    "https://raw.githubusercontent.com/SkyIslandsMath/semester-2/master/data/volcanoes.csv\n",
    "```\n",
    "Load the data, look at the information available, and make a geographic scatter plot of the volcanic eruptions using either `px.scatter_geo` or `px.scatter_mapbox`."
   ]
  },
  {
   "cell_type": "code",
   "execution_count": null,
   "metadata": {},
   "outputs": [],
   "source": []
  }
 ],
 "metadata": {
  "hide_input": false,
  "kernelspec": {
   "display_name": "Python 3",
   "language": "python",
   "name": "python3"
  },
  "language_info": {
   "codemirror_mode": {
    "name": "ipython",
    "version": 3
   },
   "file_extension": ".py",
   "mimetype": "text/x-python",
   "name": "python",
   "nbconvert_exporter": "python",
   "pygments_lexer": "ipython3",
   "version": "3.7.3"
  },
  "varInspector": {
   "cols": {
    "lenName": 16,
    "lenType": 16,
    "lenVar": 40
   },
   "kernels_config": {
    "python": {
     "delete_cmd_postfix": "",
     "delete_cmd_prefix": "del ",
     "library": "var_list.py",
     "varRefreshCmd": "print(var_dic_list())"
    },
    "r": {
     "delete_cmd_postfix": ") ",
     "delete_cmd_prefix": "rm(",
     "library": "var_list.r",
     "varRefreshCmd": "cat(var_dic_list()) "
    }
   },
   "types_to_exclude": [
    "module",
    "function",
    "builtin_function_or_method",
    "instance",
    "_Feature"
   ],
   "window_display": false
  }
 },
 "nbformat": 4,
 "nbformat_minor": 2
}
