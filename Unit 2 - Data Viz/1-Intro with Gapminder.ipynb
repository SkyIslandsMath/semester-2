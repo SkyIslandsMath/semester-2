{
 "cells": [
  {
   "cell_type": "markdown",
   "metadata": {
    "colab_type": "text",
    "id": "LVflekJpRt6q"
   },
   "source": [
    "# Introduction to Data visualization\n",
    "There are amazing tools available to us now for data analysis and visualization. Many of these are designed especially for the python ecosystem. We'll meet two of them today and use them to visualize the Gapminder dataset -- `pandas` and `plotly`.\n",
    "\n",
    "In order to use any external library in python we need to `import` them. It is always a good idea to import your libraries at the beginning of your notebook:\n",
    "\n"
   ]
  },
  {
   "cell_type": "code",
   "execution_count": null,
   "metadata": {
    "colab": {},
    "colab_type": "code",
    "id": "02YLYutDdTK4"
   },
   "outputs": [],
   "source": [
    "#this line imports pandas and assigns it a nickname\n",
    "import pandas as pd\n",
    "\n",
    "#this line imports plotly express and assigns it a nickname\n",
    "import plotly.express as px\n",
    "\n",
    "#this line makes our data a little prettier when we display it in colab\n",
    "%load_ext google.colab.data_table"
   ]
  },
  {
   "cell_type": "markdown",
   "metadata": {
    "colab_type": "text",
    "id": "-KKPFzsPUaau"
   },
   "source": [
    "## `pandas`\n",
    "\n",
    "`pandas` is the standard python library for reading, writing, organizing, and manipulating tabular data. You are probably already familliar with tabular data in the form of a spreadsheet like microsoft excel or google sheets. `pandas` has a number of tools to read different spreadsheet formats into python.\n",
    "\n",
    "In this case, we are starting with a `.csv` file -- short for comma separated values -- a standard method of saving spreadsheets. Once we read a file into python with `pd.read_csv` we need to save it to a variable. The object we are left with is called a `DataFrame`.\n"
   ]
  },
  {
   "cell_type": "code",
   "execution_count": null,
   "metadata": {
    "colab": {},
    "colab_type": "code",
    "id": "fzMc_DVCe98W"
   },
   "outputs": [],
   "source": [
    "#The line below reads our file -- we pass the location of our file as an argument to read_csv --\n",
    "#and saves it to a variable I called data\n",
    "data = pd.read_csv('https://raw.githubusercontent.com/SkyIslandsMath/semester-2/master/data/gapminder.csv')"
   ]
  },
  {
   "cell_type": "code",
   "execution_count": null,
   "metadata": {
    "colab": {},
    "colab_type": "code",
    "id": "PA3js-cagxME"
   },
   "outputs": [],
   "source": [
    "# we can now display our DataFrame by typing its name\n",
    "data"
   ]
  },
  {
   "cell_type": "markdown",
   "metadata": {
    "colab_type": "text",
    "id": "8iXMK9kXN_bp"
   },
   "source": [
    "If you scroll through the data, you may see some blank spots. We call this missing data, and it can cause problems for our analysis and visualization. \n",
    "\n",
    "There are many approaches to deal with missing data, but today we willl take the quickest and easiest- if not the best. We will simply drop any rows that are missing data."
   ]
  },
  {
   "cell_type": "code",
   "execution_count": null,
   "metadata": {
    "colab": {},
    "colab_type": "code",
    "id": "BPpikNtOOnve"
   },
   "outputs": [],
   "source": [
    "#data.dropna() drops any rows in our dataframe that are missing data, we then assign\n",
    "#this dataframe back to our variable called data\n",
    "data = data.dropna()"
   ]
  },
  {
   "cell_type": "markdown",
   "metadata": {
    "colab_type": "text",
    "id": "PwuBs2YmRouv"
   },
   "source": [
    "## Plotly.\n",
    "Plotly is a tool we can use to visualize data. It has a number of different submodules -- we'll start by working with plotly express. \n",
    "\n",
    "Plotly express gives you less control over how you displlay your data than some of Plotly's other modules, but it is much easier to use.\n",
    "\n",
    "We can create a scatter plot using the code below. `px.scatter()` is a function in plotly express that makes a scatter plot. \n",
    "\n",
    "We need to pass it several arguments -- first a pandas dataframe, and then the columns we want to use for our `x` and `y` values. We can pass further arguments that specify how to specify other aspects of our graph, such as the size or color of our scatter points.\n",
    "\n",
    "Make sure any column names you pass as arguments are surrounded by quotation marks and are written exactly as they appear in the dataframe (capitalization, underscores, spaces, etc.).\n"
   ]
  },
  {
   "cell_type": "code",
   "execution_count": null,
   "metadata": {
    "cellView": "both",
    "colab": {},
    "colab_type": "code",
    "id": "mpCraT7tfAMU"
   },
   "outputs": [],
   "source": [
    "px.scatter(data,\n",
    "           x=\"fertility\",\n",
    "           y=\"life\",\n",
    "           animation_frame=\"Year\",\n",
    "           animation_group=\"Country\",\n",
    "           size=\"population\",\n",
    "           color=\"region\",\n",
    "           hover_name=\"Country\",\n",
    "           size_max=75,\n",
    "           range_x=[0, 8],\n",
    "           range_y=[20, 85])"
   ]
  },
  {
   "cell_type": "markdown",
   "metadata": {
    "colab_type": "text",
    "id": "P4jSZAPUR7no"
   },
   "source": [
    "## Assignment\n",
    "Use our gapminder dataframe called `data` and the `px.scatter()` function to make your own plot. Use different columns than the plot above for the various parts of your graph(x-values,y-values, bubble size, color, slider/animation, etc.). You don't need to use all of the options available, but you can. \n",
    "\n",
    "Make sure you run all the cells above so your variables are defined and your libraries are imported.\n",
    "\n",
    "**Extra credit**: figure out what the \"`animation_group=`\" argument does, **because I have no idea.**"
   ]
  },
  {
   "cell_type": "code",
   "execution_count": null,
   "metadata": {
    "colab": {},
    "colab_type": "code",
    "id": "zssxzUCyUUzj"
   },
   "outputs": [],
   "source": [
    "#call px.scatter with your arguments here"
   ]
  },
  {
   "cell_type": "markdown",
   "metadata": {},
   "source": [
    "## Assignment 2\n",
    "This is the beginning of a long-term assignment. Over the course of the next several weeks, you will find a dataset that interests you and visualize the data in some interesting way. One of the first steps of this is exploring what kinds of data is publicly available. You can find links to thousands of public datasets at the following sites:\n",
    "\n",
    "- https://www.lib.ncsu.edu/teaching-and-learning-datasets\n",
    "- https://guides.emich.edu/data/free-data\n",
    "\n",
    "Explore some of the data that is available, and begin to think of an area that you might be interested in studying. \n"
   ]
  },
  {
   "cell_type": "code",
   "execution_count": null,
   "metadata": {},
   "outputs": [],
   "source": []
  }
 ],
 "metadata": {
  "colab": {
   "authorship_tag": "ABX9TyPQUJLLtqHhmk88p6CE3Mah",
   "collapsed_sections": [],
   "name": "1-Intro with Gapminder.ipynb",
   "provenance": []
  },
  "hide_input": false,
  "kernelspec": {
   "display_name": "Python 3",
   "language": "python",
   "name": "python3"
  },
  "language_info": {
   "codemirror_mode": {
    "name": "ipython",
    "version": 3
   },
   "file_extension": ".py",
   "mimetype": "text/x-python",
   "name": "python",
   "nbconvert_exporter": "python",
   "pygments_lexer": "ipython3",
   "version": "3.7.3"
  },
  "varInspector": {
   "cols": {
    "lenName": 16,
    "lenType": 16,
    "lenVar": 40
   },
   "kernels_config": {
    "python": {
     "delete_cmd_postfix": "",
     "delete_cmd_prefix": "del ",
     "library": "var_list.py",
     "varRefreshCmd": "print(var_dic_list())"
    },
    "r": {
     "delete_cmd_postfix": ") ",
     "delete_cmd_prefix": "rm(",
     "library": "var_list.r",
     "varRefreshCmd": "cat(var_dic_list()) "
    }
   },
   "types_to_exclude": [
    "module",
    "function",
    "builtin_function_or_method",
    "instance",
    "_Feature"
   ],
   "window_display": false
  }
 },
 "nbformat": 4,
 "nbformat_minor": 4
}
