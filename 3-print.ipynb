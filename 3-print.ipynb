{
 "cells": [
  {
   "cell_type": "markdown",
   "metadata": {},
   "source": [
    "# `print`"
   ]
  },
  {
   "cell_type": "markdown",
   "metadata": {},
   "source": [
    "CodeHS used Python 2, but from now on, we will be using Python 3. Most of the changes are \"under the hood\" so you won't notice them. The big change is in how we use print. \n",
    "Before, we could write `print \"Hello\"` and it would work fine. \n",
    "\n",
    "In Python 3 `print \"Hello\"` will cause an error.\n",
    "In Python 3 `print` is a function, so we need to use parentheses after it, and it will print out the string inside the parentheses like this : `print(\"Hello\")`"
   ]
  },
  {
   "cell_type": "markdown",
   "metadata": {},
   "source": [
    "This will cause an error:"
   ]
  },
  {
   "cell_type": "code",
   "execution_count": null,
   "metadata": {},
   "outputs": [],
   "source": [
    "print \"Hello\""
   ]
  },
  {
   "cell_type": "markdown",
   "metadata": {},
   "source": [
    "This will work correctly:"
   ]
  },
  {
   "cell_type": "code",
   "execution_count": null,
   "metadata": {},
   "outputs": [],
   "source": [
    "print(\"Hello\")"
   ]
  },
  {
   "cell_type": "markdown",
   "metadata": {},
   "source": [
    "## f-strings"
   ]
  },
  {
   "cell_type": "markdown",
   "metadata": {},
   "source": [
    "There are some neat new features to Python 3 too. One of my favorites is the f-string. It makes the process of creating a string much easier!\n",
    "\n",
    "Let's say we have two variables, `name` and `age`"
   ]
  },
  {
   "cell_type": "code",
   "execution_count": null,
   "metadata": {},
   "outputs": [],
   "source": [
    "name='Jeff'\n",
    "age=25"
   ]
  },
  {
   "cell_type": "markdown",
   "metadata": {},
   "source": [
    "If we wanted to use these values in a string in Python 2 we used the annoying process of string concatenation. So if we wanted to print out \n",
    "\n",
    "`Hi Jeff, you're 25 years old` \n",
    "\n",
    "We would need to do something like the following:"
   ]
  },
  {
   "cell_type": "code",
   "execution_count": null,
   "metadata": {},
   "outputs": [],
   "source": [
    "print(\"Hi \"+ name +\", you're \"+ str(age)   +\" years old\")"
   ]
  },
  {
   "cell_type": "markdown",
   "metadata": {},
   "source": [
    "This was annoying, and it was easy to get things like the spaces and commas wrong.\n",
    "\n",
    "### Now we can use an f-string!\n",
    "In order to use an f-string, just put a lowercase f before the beginning quotation marks of a string. \n",
    "\n",
    "Then, anywhere you want to insert a variable, just put its name inside curly brackets inside the string. \n",
    "\n",
    "Our new code is:"
   ]
  },
  {
   "cell_type": "code",
   "execution_count": null,
   "metadata": {},
   "outputs": [],
   "source": [
    "print(f\"Hi {name}, you're {age} years old\")"
   ]
  },
  {
   "cell_type": "markdown",
   "metadata": {},
   "source": [
    "I find this way easier to read and write!!!"
   ]
  },
  {
   "cell_type": "code",
   "execution_count": null,
   "metadata": {},
   "outputs": [],
   "source": [
    "name=input(\"What's your name? \")\n",
    "age=input(\"How old are you? \")\n",
    "print(f\"Hi {name}, you're {age} years old\")"
   ]
  },
  {
   "cell_type": "markdown",
   "metadata": {},
   "source": [
    "# Assignment"
   ]
  },
  {
   "cell_type": "markdown",
   "metadata": {},
   "source": [
    "## Don't forget to save a copy, rename it, and share it when you're done."
   ]
  },
  {
   "cell_type": "markdown",
   "metadata": {},
   "source": [
    "In the code box below, write a program that asks the user for three pieces of information-  their favorite movie, their favorite band, and their favorite tree- and tells them that you love those things. **You must use f-strings**.\n",
    "\n",
    "The output of your code might look like this:\n",
    "```\n",
    "What is your favorite movie? Breakin' 2: Electric Boogaloo \n",
    "What is your favorite band? The Polka Kings\n",
    "What is your favorite tree? Elm\n",
    "\n",
    "Awesome I love Breakin' 2: Electric Boogaloo, The Polka Kings, and Elm trees too!!!\n",
    "```"
   ]
  },
  {
   "cell_type": "code",
   "execution_count": null,
   "metadata": {},
   "outputs": [],
   "source": []
  }
 ],
 "metadata": {
  "hide_input": false,
  "kernelspec": {
   "display_name": "Python 3",
   "language": "python",
   "name": "python3"
  },
  "language_info": {
   "codemirror_mode": {
    "name": "ipython",
    "version": 3
   },
   "file_extension": ".py",
   "mimetype": "text/x-python",
   "name": "python",
   "nbconvert_exporter": "python",
   "pygments_lexer": "ipython3",
   "version": "3.7.3"
  },
  "varInspector": {
   "cols": {
    "lenName": 16,
    "lenType": 16,
    "lenVar": 40
   },
   "kernels_config": {
    "python": {
     "delete_cmd_postfix": "",
     "delete_cmd_prefix": "del ",
     "library": "var_list.py",
     "varRefreshCmd": "print(var_dic_list())"
    },
    "r": {
     "delete_cmd_postfix": ") ",
     "delete_cmd_prefix": "rm(",
     "library": "var_list.r",
     "varRefreshCmd": "cat(var_dic_list()) "
    }
   },
   "types_to_exclude": [
    "module",
    "function",
    "builtin_function_or_method",
    "instance",
    "_Feature"
   ],
   "window_display": false
  }
 },
 "nbformat": 4,
 "nbformat_minor": 2
}
