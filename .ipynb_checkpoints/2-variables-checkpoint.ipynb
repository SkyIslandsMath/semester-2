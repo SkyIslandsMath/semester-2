{
 "cells": [
  {
   "cell_type": "markdown",
   "metadata": {},
   "source": [
    "# Variables\n",
    "\n",
    "Remember that one of the most basic things we have to do when we program is to make a variable.\n",
    "\n",
    "A variable has a name that we refer to it by, and a value it contains. \n",
    "\n",
    "The value may be any python object like a number, a string, a boolean, a list, or something else.\n",
    "\n",
    "To make a variable, we use the equals sign `=` with the name on the left hand side, and the value on the right"
   ]
  },
  {
   "cell_type": "markdown",
   "metadata": {},
   "source": [
    "### Declare a variable using `=`\n",
    "\n",
    "Put the name you want to give the variable on the left side of the equals sign and the value you want to give it on the right side of the equals sign:\n",
    "\n",
    "`word = \"Chewbacca\" `\n",
    "\n",
    "`pi = 3.14159`\n",
    "\n",
    "`age = 18`"
   ]
  },
  {
   "cell_type": "markdown",
   "metadata": {},
   "source": [
    "### Update a variable \n",
    "\n",
    "You can change the value of a variable by using `=` again. Just use the same variable name and the value will become whatever you assign to it:\n",
    "\n",
    "`word = \"Yoda\"`\n",
    "\n",
    "`age = age+20`\n",
    "\n",
    "You can even use the old value of the variable on the right side of the `=` to create the new value.  Python evaluates the right side of the `=` with the old value before assigning it. Run the code cells below to practice assigning and updating variables."
   ]
  },
  {
   "cell_type": "code",
   "execution_count": null,
   "metadata": {},
   "outputs": [],
   "source": [
    "word='antidisestablishmentarianism'\n",
    "number=5"
   ]
  },
  {
   "cell_type": "code",
   "execution_count": null,
   "metadata": {},
   "outputs": [],
   "source": [
    "print(word)\n",
    "print(number)"
   ]
  },
  {
   "cell_type": "code",
   "execution_count": null,
   "metadata": {},
   "outputs": [],
   "source": [
    "word='that word was too long'\n",
    "number=10+number"
   ]
  },
  {
   "cell_type": "code",
   "execution_count": null,
   "metadata": {},
   "outputs": [],
   "source": [
    "print(word)\n",
    "print(number)"
   ]
  },
  {
   "cell_type": "markdown",
   "metadata": {},
   "source": [
    "We can update a variable as many times as we want. In the code below, we print out the value of our variable `number` then add one to the value of `number` and assign it back to `number`. Run the code below."
   ]
  },
  {
   "cell_type": "code",
   "execution_count": null,
   "metadata": {},
   "outputs": [],
   "source": [
    "number=1\n",
    "for i in range(5):\n",
    "    print(number)\n",
    "    number=number+1"
   ]
  },
  {
   "cell_type": "markdown",
   "metadata": {},
   "source": [
    "## input()\n",
    "\n",
    "Remember that we can get input from a hypothetical user by using the `input()` function. We put a message to the user as a string inside the parentheses, and the `input` function returns what they type in as a sting."
   ]
  },
  {
   "cell_type": "code",
   "execution_count": null,
   "metadata": {},
   "outputs": [],
   "source": [
    "name = input('What is your name? ')\n",
    "age = input('How old are you?')\n",
    "print('Hello ' + name+'!')\n",
    "print('I heard you are ' + age +' years old.' )"
   ]
  },
  {
   "cell_type": "markdown",
   "metadata": {},
   "source": [
    "Keep in mind that `input` always returns a string, so if we want to use input as a number, we have to convert it to a number first. When you run the code below, you'll get an **error**."
   ]
  },
  {
   "cell_type": "code",
   "execution_count": null,
   "metadata": {},
   "outputs": [],
   "source": [
    "in_20=age+20"
   ]
  },
  {
   "cell_type": "markdown",
   "metadata": {},
   "source": [
    "First we need to turn the `string` age into an integer. The code below will work fine."
   ]
  },
  {
   "cell_type": "code",
   "execution_count": null,
   "metadata": {},
   "outputs": [],
   "source": [
    "age=int(age)\n",
    "in_20=age+20\n",
    "print(\"In 20 years, you'll be \"+str(in_20)+\" years old.\")"
   ]
  },
  {
   "cell_type": "markdown",
   "metadata": {},
   "source": [
    "# Assignment"
   ]
  },
  {
   "cell_type": "markdown",
   "metadata": {},
   "source": [
    "## Remember to make a copy of this notebook in your google drive, rename it to `2-variables Your Name`."
   ]
  },
  {
   "cell_type": "markdown",
   "metadata": {},
   "source": [
    "- In the code cell below, declare three variables that store three different values.\n",
    "- Print out the value of each variable.\n",
    "- Update the values of each variable.\n",
    "- Print out the new value of each variable.\n",
    "- **ONLY USE THREE DIFFERENT VARIABLE NAMES**"
   ]
  },
  {
   "cell_type": "code",
   "execution_count": null,
   "metadata": {},
   "outputs": [],
   "source": []
  },
  {
   "cell_type": "markdown",
   "metadata": {},
   "source": [
    "## When you're done, remember to save your work and share it with me at skyislandsmath@gmail.com"
   ]
  }
 ],
 "metadata": {
  "hide_input": false,
  "kernelspec": {
   "display_name": "Python 3",
   "language": "python",
   "name": "python3"
  },
  "language_info": {
   "codemirror_mode": {
    "name": "ipython",
    "version": 3
   },
   "file_extension": ".py",
   "mimetype": "text/x-python",
   "name": "python",
   "nbconvert_exporter": "python",
   "pygments_lexer": "ipython3",
   "version": "3.7.3"
  },
  "varInspector": {
   "cols": {
    "lenName": 16,
    "lenType": 16,
    "lenVar": 40
   },
   "kernels_config": {
    "python": {
     "delete_cmd_postfix": "",
     "delete_cmd_prefix": "del ",
     "library": "var_list.py",
     "varRefreshCmd": "print(var_dic_list())"
    },
    "r": {
     "delete_cmd_postfix": ") ",
     "delete_cmd_prefix": "rm(",
     "library": "var_list.r",
     "varRefreshCmd": "cat(var_dic_list()) "
    }
   },
   "types_to_exclude": [
    "module",
    "function",
    "builtin_function_or_method",
    "instance",
    "_Feature"
   ],
   "window_display": false
  }
 },
 "nbformat": 4,
 "nbformat_minor": 2
}
