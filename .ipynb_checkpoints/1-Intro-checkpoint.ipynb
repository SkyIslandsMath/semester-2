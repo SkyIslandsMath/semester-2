{
 "cells": [
  {
   "cell_type": "markdown",
   "metadata": {},
   "source": [
    "# Welcome to Google Colab!\n",
    "We won't be using codehs this semester, we'll start off by using the google colab coding environment.\n",
    "This environment is nice because it can include cells of text, like this one, and cells of code like the one below:"
   ]
  },
  {
   "cell_type": "code",
   "execution_count": null,
   "metadata": {},
   "outputs": [],
   "source": [
    "print('Hello')"
   ]
  },
  {
   "cell_type": "markdown",
   "metadata": {},
   "source": [
    "In order to run the code above, just click on the cell and then click on the run button to the left of the cell. The output of the cell will be displayed immediately below it. You can also run a cell by clicking on it and pressing `Shift+Enter`.\n",
    "\n",
    "Run the cell above now if you have not done so alreadyRun all of the code cells in your notebooks as you read the notebooks."
   ]
  },
  {
   "cell_type": "markdown",
   "metadata": {},
   "source": [
    "If the code has run successfully, you will see `In [1]:` to the left of the code, and any output of the code below it. The number inbetween the square brackets is `1` because it is the first cell of code we have executed. \n",
    "- Click on the cell above and run it again. \n",
    "- You'll see that the number changes to `2` because it is now the second cell we have run. \n",
    "- As you execute more code the number next to each piece of code will continue to rise."
   ]
  },
  {
   "cell_type": "markdown",
   "metadata": {},
   "source": [
    "# The order that you execute cells is important"
   ]
  },
  {
   "cell_type": "markdown",
   "metadata": {},
   "source": [
    "It is possible to execute cells in any order you wish. For instance, in the two code cells below, you could run the second code, which has the command `print(x)` in it. But if you run that code first it will cause an error, because `x` has not been defined. In order to define `x`, you must first run the cell with `x='Hello again'` in it."
   ]
  },
  {
   "cell_type": "code",
   "execution_count": null,
   "metadata": {},
   "outputs": [],
   "source": [
    "x='Hello again'"
   ]
  },
  {
   "cell_type": "code",
   "execution_count": null,
   "metadata": {},
   "outputs": [],
   "source": [
    "print(x)"
   ]
  },
  {
   "cell_type": "markdown",
   "metadata": {},
   "source": [
    "If you execute `print(x)` first you'll get an error. but after you execute `x='Hello Again'` you can execute `print(x)` with no problems."
   ]
  },
  {
   "cell_type": "markdown",
   "metadata": {},
   "source": [
    "### When I go over your homework, I will execute cells in order (from the top to the bottom). Make sure your code is in the right order"
   ]
  },
  {
   "cell_type": "markdown",
   "metadata": {},
   "source": [
    "#  Assignment:\n",
    "\n",
    "### 1. Make a copy of this notebook in your google drive with the title `1-Intro Your Name`.\n",
    "#### - From the file menu, choose save a copy to drive\n",
    "![pic](./resources/drivecopy1.png)\n",
    "#### - A new window will open with a copy of the notebook titled `Copy of 1-Intro`\n",
    "![pic](./resources/drivecopy2.png)\n",
    "#### - Click on the title of the note book to rename it, delete `Copy of ` and add `Your Name` after `1-Intro`\n",
    "![pic](./resources/drivecopy3.png)\n",
    "#### - Under the file menu, click on save.\n",
    "![pic](./resources/drivecopy4.png)\n",
    "\n",
    "### 2. Share the file with me (skyislandsmath@gmail.com)\n",
    "#### - Click on the share button in the top right corner of the window\n",
    "![pic](./resources/snip0.png)\n",
    "#### - Enter my google email adress: skyislandsmath@gmail.com\n",
    "![pic](./resources/snip2.png)\n",
    "#### - Click on the button to the right of where you entered my email. Choose \"Can comment\" from the dropdown.\n",
    "![pic](./resources/snip3.png)\n",
    "#### - Click the send button"
   ]
  }
 ],
 "metadata": {
  "hide_input": false,
  "kernelspec": {
   "display_name": "Python 3",
   "language": "python",
   "name": "python3"
  },
  "language_info": {
   "codemirror_mode": {
    "name": "ipython",
    "version": 3
   },
   "file_extension": ".py",
   "mimetype": "text/x-python",
   "name": "python",
   "nbconvert_exporter": "python",
   "pygments_lexer": "ipython3",
   "version": "3.7.3"
  },
  "varInspector": {
   "cols": {
    "lenName": 16,
    "lenType": 16,
    "lenVar": 40
   },
   "kernels_config": {
    "python": {
     "delete_cmd_postfix": "",
     "delete_cmd_prefix": "del ",
     "library": "var_list.py",
     "varRefreshCmd": "print(var_dic_list())"
    },
    "r": {
     "delete_cmd_postfix": ") ",
     "delete_cmd_prefix": "rm(",
     "library": "var_list.r",
     "varRefreshCmd": "cat(var_dic_list()) "
    }
   },
   "types_to_exclude": [
    "module",
    "function",
    "builtin_function_or_method",
    "instance",
    "_Feature"
   ],
   "window_display": false
  }
 },
 "nbformat": 4,
 "nbformat_minor": 2
}
