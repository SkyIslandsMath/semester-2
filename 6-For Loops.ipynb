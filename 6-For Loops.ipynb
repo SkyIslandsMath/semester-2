{
 "cells": [
  {
   "cell_type": "markdown",
   "metadata": {},
   "source": [
    "# For Loops\n",
    "\n",
    "It is often the case that we want to repeat a block of code many times. In order to do this we use a **loop**. If we know how many times we need to repeat it ahead of time we use a **for loop**  when we don't know how many times we need to repeat a code we use a **while loop**"
   ]
  },
  {
   "cell_type": "markdown",
   "metadata": {},
   "source": [
    "## Basic case\n",
    "\n",
    "In the simplest situation, we just need to repeat code a certain number of times. If, for instance, we need to repeat a block of code 5 times, our syntax would be:\n",
    "```python\n",
    "for i in range(5):\n",
    "    code here will be\n",
    "    executed 5 times\n",
    "```\n",
    "If we needed to repeat it a different number of times, we would just change the number inside the parentheses of `range()`. In the example below, we just print out hello three times."
   ]
  },
  {
   "cell_type": "code",
   "execution_count": null,
   "metadata": {},
   "outputs": [],
   "source": [
    "for i in range(3):\n",
    "    print('Hello')"
   ]
  },
  {
   "cell_type": "markdown",
   "metadata": {},
   "source": [
    "We can also use the variable `i` inside the loop if we want to. We could count from 0 to 9..."
   ]
  },
  {
   "cell_type": "code",
   "execution_count": null,
   "metadata": {},
   "outputs": [],
   "source": [
    "for i in range(10):\n",
    "    print(i)"
   ]
  },
  {
   "cell_type": "markdown",
   "metadata": {},
   "source": [
    "The `range` function can take 1, 2, or 3 arguments. \n",
    "\n",
    "If you give it one argument, range will start counting at 0 and stop at the argument number (but it doesn't include the stop point). \n",
    "```\n",
    "range(stop)\n",
    "```\n",
    "If you give it two arguments, it starts at the first argument and stops at the second argument.\n",
    "```\n",
    "range(start,stop)\n",
    "```\n",
    "If you give it three arguments, the first argument is the start point, the second is the stop, and the third is the step size.\n",
    "```\n",
    "range(start,stop,step)\n",
    "```"
   ]
  },
  {
   "cell_type": "markdown",
   "metadata": {},
   "source": [
    "### Examples:"
   ]
  },
  {
   "cell_type": "code",
   "execution_count": null,
   "metadata": {},
   "outputs": [],
   "source": [
    "for i in range(5, 11):\n",
    "    print(10 * i)"
   ]
  },
  {
   "cell_type": "code",
   "execution_count": null,
   "metadata": {},
   "outputs": [],
   "source": [
    "for i in range(50, 101, 10):\n",
    "    print(i)"
   ]
  },
  {
   "cell_type": "code",
   "execution_count": 1,
   "metadata": {},
   "outputs": [
    {
     "name": "stdout",
     "output_type": "stream",
     "text": [
      "💣\n",
      "9\n",
      "8\n",
      "7\n",
      "6\n",
      "5\n",
      "4\n",
      "3\n",
      "2\n",
      "1\n",
      "BOOM!!!🤯\n"
     ]
    }
   ],
   "source": [
    "print('\\N{bomb}')\n",
    "for i in range(9, 0, -1):\n",
    "    print(i)\n",
    "print('BOOM!!!')"
   ]
  },
  {
   "cell_type": "markdown",
   "metadata": {},
   "source": [
    "## Iterables"
   ]
  },
  {
   "cell_type": "markdown",
   "metadata": {},
   "source": [
    "We can also use for loops to go through each item in an iterable. Common examples of iterables are strings, lists, and tuples. Our syntax then becomes `for item in iterable`, eg `for letter in string:` or `for item in list:`"
   ]
  },
  {
   "cell_type": "code",
   "execution_count": null,
   "metadata": {},
   "outputs": [],
   "source": [
    "students = ['Dillion', 'Makayla', 'Xander', 'Zoe', 'Brooks', 'Linneman', 'Sarah','Emily', 'Evan', 'Frank']\n",
    "for student in students:\n",
    "    print(f'Hello there, {student}')"
   ]
  },
  {
   "cell_type": "code",
   "execution_count": null,
   "metadata": {},
   "outputs": [],
   "source": [
    "word = 'PYTHON'\n",
    "for letter in word:\n",
    "    print(f'Give me a {letter} ... {letter}')\n",
    "print(\"What's that spell?\")\n",
    "print(f'{word}!!!!')"
   ]
  },
  {
   "cell_type": "markdown",
   "metadata": {},
   "source": [
    "## Assignment\n",
    "\n",
    "#### Cracking the Caesar cipher \n",
    "One of the problems with the Caesar cipher is that there are only 26 possible shifts. If we were to try to decode it by hand without the key, it would take a while, but with a computer it will take only moments. I want you to decode the string `'njrfbzr'` without knowing what the dhift distance is.\n",
    "\n",
    "In order to do this, copy your decode function from the last assignment in the code cell below, then write a for loop to iterate over all possible shifts, printing out each possibility. Only one of the possibilities is a real word. What is it?"
   ]
  },
  {
   "cell_type": "code",
   "execution_count": null,
   "metadata": {},
   "outputs": [],
   "source": []
  }
 ],
 "metadata": {
  "hide_input": false,
  "kernelspec": {
   "display_name": "Python 3",
   "language": "python",
   "name": "python3"
  },
  "language_info": {
   "codemirror_mode": {
    "name": "ipython",
    "version": 3
   },
   "file_extension": ".py",
   "mimetype": "text/x-python",
   "name": "python",
   "nbconvert_exporter": "python",
   "pygments_lexer": "ipython3",
   "version": "3.7.3"
  },
  "varInspector": {
   "cols": {
    "lenName": 16,
    "lenType": 16,
    "lenVar": 40
   },
   "kernels_config": {
    "python": {
     "delete_cmd_postfix": "",
     "delete_cmd_prefix": "del ",
     "library": "var_list.py",
     "varRefreshCmd": "print(var_dic_list())"
    },
    "r": {
     "delete_cmd_postfix": ") ",
     "delete_cmd_prefix": "rm(",
     "library": "var_list.r",
     "varRefreshCmd": "cat(var_dic_list()) "
    }
   },
   "types_to_exclude": [
    "module",
    "function",
    "builtin_function_or_method",
    "instance",
    "_Feature"
   ],
   "window_display": false
  }
 },
 "nbformat": 4,
 "nbformat_minor": 2
}
