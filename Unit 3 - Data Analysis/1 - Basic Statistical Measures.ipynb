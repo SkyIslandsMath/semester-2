{
 "cells": [
  {
   "cell_type": "code",
   "execution_count": null,
   "metadata": {},
   "outputs": [],
   "source": [
    "!pip install plotly==4.5.1"
   ]
  },
  {
   "cell_type": "markdown",
   "metadata": {},
   "source": [
    "# Some Numbers\n",
    "\n",
    "So far, we have mostly been making pictures of our data. This is always a vital step when we analyze data -- pictures communicate a great deal of information. However, we also want to quantify our data in various ways -- we want numbers that we can use to describe qualities of our data. \n",
    "\n",
    "## Measures of Central Tendency\n",
    "\n",
    "We often want to describe the \"middle\" of our data. There are several well known measures-- which you probably learned in elementary school -- to describe the \"middle\". The two we will use the most are the **mean** and the **median**.\n",
    "#### mean:\n",
    "- We often denote the mean with the lower-case greek letter mu, $\\mu$, or with a line over a variable $\\bar{x}$\n",
    "- To find the mean, add up the values of all of our data points and then divide by the number of data points.\n",
    "- Symbolically, if we denote our data points as $x_1, x_2, x_3, \\ldots ,x_{n-1} ,x_n$, the mean is:\n",
    "\n",
    "$$\\bar{x}=\\frac{x_1 + x_2 + x_3 + \\cdots + x_{n-1} + x_n}{n}$$\n",
    "\n",
    "- Example -- Let our data be the height, in inches, of ten people: 61, 63, 65, 67, 70, 67, 69, 70, 71, 73. Then our mean, $\\mu$, is:\n",
    "\n",
    "$$\\mu=\\frac{61 + 63 + 65 + 67 + 70 + 67 + 69 + 70 + 71 + 73}{10} = \\frac{676}{10} = 67.6 \\textrm{ inches}$$\n",
    "\n",
    "#### median:\n",
    "- To find the median, we put our data values in order from highest to lowest. If there are an even number of data points our median is the mean of the middle two points. If there are an odd number of values our median is the middle value.\n",
    "- Example using the same height data as above --  61, 63, 65, 67, 70, 67, 69, 70, 71, 73:\n",
    "    1. First sort the data: 61, 63, 65, 67, 67, 69, 70, 70, 71, 73\n",
    "    2. There are ten data points, so we need to take the average of the middle two.\n",
    "    3. The middle two values are 67 and 69 so \n",
    "    \n",
    "    $$\\textrm{median} = \\frac{67 + 69}{2} = 68 \\textrm{ inches}$$\n",
    "    \n"
   ]
  },
  {
   "cell_type": "markdown",
   "metadata": {},
   "source": [
    "## Quantiles/Percentiles\n",
    "It is often useful to quantify other points in our data besides the middle. For this we use quantiles or percentiles -- they are basically the same thing one uses a decimal, the other uses a percent. A quantile (or percentile) gives the value where a given ratio (or percent) of our data is below that value.\n",
    "- Example with the height data above -- 61, 63, 65, 67, 67, 69, 70, 70, 71, 73:\n",
    "  1. The 0.3 quantile (or 30th percentile) is between 65 and 67, because 3 out of 10 (or 0.3 or 30%) of our data is below that value. There are several ways to pick the value between 65 and 67.\n",
    "  2. The natural choice would be the  mean of 65 and 67 -- which is 66 -- but our python tools will use a different method by default and will return 66.4 . The exact method is not too important and wither of these values are fine.\n",
    "\n",
    "The most common quantiles we use are 0.25, 0.5, and 0.75 (the 25th, 50th, and 75th percentiles). These split our data into quarters so we call them the first, second, and third quartiles.  Notice that the median is just another name for the 0.5 quantile. \n",
    "\n"
   ]
  },
  {
   "cell_type": "markdown",
   "metadata": {},
   "source": [
    "## The Spread of our data\n",
    "\n",
    "Another important thing to measure is how spread out our data is. The simplest measure is the **range**, which is simply the difference between the largest and smallest data points. Other common measures of spread are the **variance**, the **standard deviation**, and the **inter-quartile range** or **IQR**. \n",
    "#### Variance:\n",
    "- We often denote the variance with the square of thelower-case Greek letter sigma, $\\sigma^2$\n",
    "- To find the variance, for each data point we subtract the mean from the data point and square that difference. We then add all of those squared differences together and divide by the number of points.\n",
    "- Symbolically, if we denote our data points as $x_1, x_2, x_3, \\ldots ,x_{n-1} ,x_n$, and they have mean $\\bar{x}$:\n",
    "\n",
    "$$\\sigma^2=\\frac{(x_1-\\bar{x}) + (x_2-\\bar{x}) + (x_3-\\bar{x})+ \\cdots + (x_{n-1}-\\bar{x}) + (x_n-\\bar{x})}{n}$$\n",
    "\n",
    "- Again -- Let our data be the height, in inches, of ten people: 61, 63, 65, 67, 70, 67, 69, 70, 71, 73. We know the mean is 67.6 inches. Then our variance, $\\sigma^2$ is:\n",
    "\n",
    "$$\\begin{align}\\sigma^2&=\\frac{(61-67.6)^2 + (63-67.6)^2 + (65-67.6)^2 + \\cdots + (71-67.6)^2 + (73-67.6)^2}{10}\\\\ \\\\\n",
    "&=\\frac{(-6.6)^2 + (-4.6)^2 + (-2.6)^2 + \\cdots + (3.4)^2 + (5.4)^2}{10}\\\\ \\\\\n",
    "&=\\frac{43.56 + 21.16 + 6.76 + \\cdots + 11.56 + 29.16}{10}\\\\ \\\\\n",
    "&=\\frac{126.4}{10}\\\\ \\\\\n",
    "&=12.64\\end{align}$$\n",
    "\n",
    "#### Standard Deviation:\n",
    "- We denote the standard deviation with  the lower-case Greek letter sigma, $\\sigma$.\n",
    "- To find the standard deviation, we just take the square root of our variance.\n",
    "- So the standard deviation, $\\sigma$, is given by:\n",
    "$$\\sigma = \\sqrt{\\sigma^2} \\\\ $$\n",
    "\n",
    "- In our example our variance is 12.64, so our standard deviation is $\\sqrt{12.64}=3.56 \\textrm{ inches}$\n",
    "\n",
    "#### Inter-quartile range\n",
    "- We often use the abbreviation IQR for the inter-quartile range\n",
    "- To find the IQR we calculate the difference between the third (0.75) and first (0.25) quartiles.\n",
    "- In our hight example our first quartile is  65.5 and our third quartile is 70. So:\n",
    "$$\\begin{align} \\textrm{IQR} &= (\\textrm{first quartile}) - (\\textrm{third quartile}) \\\\\n",
    "&= 70 - 65.5 \\\\\n",
    "&= 4.5 \\\\ \\end{align} $$"
   ]
  },
  {
   "cell_type": "markdown",
   "metadata": {},
   "source": [
    "# In Python\n",
    "\n",
    "In addition to our normal imports, we'll use a new package called `numpy` which we import as `np`. If our data is just in a list, we'll use numpy to calculate our statistics. If our data is in a dataframe, `pandas` has these statistical methods built in. Let's see how we can use `numpy` to calculate the statistics for the height data."
   ]
  },
  {
   "cell_type": "code",
   "execution_count": null,
   "metadata": {},
   "outputs": [],
   "source": [
    "# Our standard imports plus numpy\n",
    "import pandas as pd\n",
    "import plotly.express as px\n",
    "import numpy as np\n",
    "height=[61, 63, 65, 67, 70, 67, 69, 70, 71, 73]"
   ]
  },
  {
   "cell_type": "markdown",
   "metadata": {},
   "source": [
    "All we need to do is pass our list of heights as an argument to our `numpy` functions\n",
    "\n",
    "**Mean:**"
   ]
  },
  {
   "cell_type": "code",
   "execution_count": null,
   "metadata": {},
   "outputs": [],
   "source": [
    "np.mean(height)"
   ]
  },
  {
   "cell_type": "markdown",
   "metadata": {},
   "source": [
    "**Median:**"
   ]
  },
  {
   "cell_type": "code",
   "execution_count": null,
   "metadata": {},
   "outputs": [],
   "source": [
    "np.median(height)"
   ]
  },
  {
   "cell_type": "markdown",
   "metadata": {},
   "source": [
    "**First Quartile:**"
   ]
  },
  {
   "cell_type": "code",
   "execution_count": null,
   "metadata": {},
   "outputs": [],
   "source": [
    "np.quantile(height,0.25)"
   ]
  },
  {
   "cell_type": "markdown",
   "metadata": {},
   "source": [
    "**Third Quartile:**"
   ]
  },
  {
   "cell_type": "code",
   "execution_count": null,
   "metadata": {},
   "outputs": [],
   "source": [
    "np.quantile(height,0.75)"
   ]
  },
  {
   "cell_type": "markdown",
   "metadata": {},
   "source": [
    "**Variance:**"
   ]
  },
  {
   "cell_type": "code",
   "execution_count": null,
   "metadata": {},
   "outputs": [],
   "source": [
    "np.var(height)"
   ]
  },
  {
   "cell_type": "markdown",
   "metadata": {},
   "source": [
    "**Standard Deviation:**"
   ]
  },
  {
   "cell_type": "code",
   "execution_count": null,
   "metadata": {},
   "outputs": [],
   "source": [
    "np.std(height)"
   ]
  },
  {
   "cell_type": "markdown",
   "metadata": {},
   "source": [
    "**Inter-quartile Range:**"
   ]
  },
  {
   "cell_type": "code",
   "execution_count": null,
   "metadata": {},
   "outputs": [],
   "source": [
    "np.quantile(height,0.75)-np.quantile(height,0.25)"
   ]
  },
  {
   "cell_type": "markdown",
   "metadata": {},
   "source": [
    "## Pandas\n",
    "\n",
    "We can use all of the above methods on `pandas` dataframes, but pandas gives us an even easier option. If our data is in a dataframe we can just use the `.describe()` method to get almost all of our summary statistics. Let's go back to the gapminder dataset to see how easy it is."
   ]
  },
  {
   "cell_type": "code",
   "execution_count": null,
   "metadata": {},
   "outputs": [],
   "source": [
    "#loading our data\n",
    "data=pd.read_csv('https://raw.githubusercontent.com/SkyIslandsMath/semester-2/master/data/gapminder.csv')\n",
    "\n",
    "#calling the decribe method\n",
    "data.describe()"
   ]
  },
  {
   "cell_type": "markdown",
   "metadata": {},
   "source": [
    "We see that `data.describe()` gives us the mean, the standard deviation, the quartiles (which includes the median), and the minimum and maximum values for all of the columns in the dataset. If we want to calculate the variance (which has been left out of `describe`) we just call `data.var()` and we will see the variance for each column listed:"
   ]
  },
  {
   "cell_type": "code",
   "execution_count": null,
   "metadata": {},
   "outputs": [],
   "source": [
    "data.var()"
   ]
  },
  {
   "cell_type": "markdown",
   "metadata": {},
   "source": [
    "If we look at the summary statistics of our gapminder data, they look a little off. For instance the mean life expectancy is 64, which seems a little short. Then we might remember that the gapminder data goes from 1964 to 2013 -- or we might look at the min and max values of the year column to get the same info. So it might make sense to see how these summary statistics have changed over time.\n",
    "\n",
    "In order to do this, we'll make subframes for the first and last years of our data, then look at the summary statistics:"
   ]
  },
  {
   "cell_type": "code",
   "execution_count": null,
   "metadata": {},
   "outputs": [],
   "source": [
    "mask1964=data['Year']==1964\n",
    "mask2013=data['Year']==2013\n",
    "data1964=data[mask1964]\n",
    "data2013=data[mask2013]"
   ]
  },
  {
   "cell_type": "code",
   "execution_count": null,
   "metadata": {},
   "outputs": [],
   "source": [
    "data1964.describe()"
   ]
  },
  {
   "cell_type": "code",
   "execution_count": null,
   "metadata": {},
   "outputs": [],
   "source": [
    "data2013.describe()"
   ]
  },
  {
   "cell_type": "markdown",
   "metadata": {},
   "source": [
    "We can see that in the 50 years covered by the dataset, average worldwide fertility has dropped by over 2.5 children, and average worldwide life expectancy has risen by almost 15 years. We knew these were the general trends, but these are pretty impressive numbers!"
   ]
  },
  {
   "cell_type": "markdown",
   "metadata": {},
   "source": [
    "### Visualizing the distribution of our data"
   ]
  },
  {
   "cell_type": "markdown",
   "metadata": {},
   "source": [
    "There are several plots we use when we want to see the \"shape\" of our data. We've already met one of the best -- the histogram. Now we'll also meet the box plot and the violin plot."
   ]
  },
  {
   "cell_type": "markdown",
   "metadata": {},
   "source": [
    "#### Histogram\n",
    "To plot a histogram, we just call `px.histogram` and pass it the dataframe, and then to the parameter `x=` we pass the column we want to plot:"
   ]
  },
  {
   "cell_type": "code",
   "execution_count": null,
   "metadata": {},
   "outputs": [],
   "source": [
    "px.histogram(data, x='life')"
   ]
  },
  {
   "cell_type": "code",
   "execution_count": null,
   "metadata": {},
   "outputs": [],
   "source": [
    "px.histogram(data1964, x='life',nbins=50,range_x=[20,90])"
   ]
  },
  {
   "cell_type": "code",
   "execution_count": null,
   "metadata": {},
   "outputs": [],
   "source": [
    "px.histogram(data2013, x='life',nbins=50,range_x=[20,90])"
   ]
  },
  {
   "cell_type": "markdown",
   "metadata": {},
   "source": [
    "We see there is a wide plot with a spike around 70. How might this change if we plotted life expectancy in 1964 and 2013? Plot those histograms below to find out."
   ]
  },
  {
   "cell_type": "code",
   "execution_count": null,
   "metadata": {},
   "outputs": [],
   "source": [
    "# plot the histogram for life expectancy in 1964 here:\n",
    "\n"
   ]
  },
  {
   "cell_type": "code",
   "execution_count": null,
   "metadata": {},
   "outputs": [],
   "source": [
    "#plot the histogram for life expectancy in 2013 here:\n",
    "\n"
   ]
  },
  {
   "cell_type": "markdown",
   "metadata": {},
   "source": [
    "#### Box plot\n",
    "A box plot helps to visualize our data by giving a graphical representation of our quartiles and outliers. Let's make one using `px.box` and I'll describe what it means:"
   ]
  },
  {
   "cell_type": "code",
   "execution_count": null,
   "metadata": {},
   "outputs": [],
   "source": [
    "px.box(data,x='Year', y='life',hover_data=['Country','Year'])"
   ]
  },
  {
   "cell_type": "markdown",
   "metadata": {},
   "source": [
    "#### Violin Plot\n",
    "Before we get to the violin plot, let's go back to the histogram for a moment. The histogram shows us the shape of our data in a rather blocky way, but what if we were to smooth it out to make a nice curve. Look at the histogram with a curve above it below:"
   ]
  },
  {
   "cell_type": "code",
   "execution_count": null,
   "metadata": {},
   "outputs": [],
   "source": [
    "import plotly.figure_factory as ff\n",
    "ff.create_distplot([data['life']], ['life expectancy'])"
   ]
  },
  {
   "cell_type": "markdown",
   "metadata": {},
   "source": [
    "We can see the curve above our data is a smooth representation of the shape of our data.\n",
    "\n",
    "A violin plot is like a combination of a box plot and this curve. The curve is turned on it's side and mirrored which makes it kind of look like a violin, hence it's name:"
   ]
  },
  {
   "cell_type": "code",
   "execution_count": null,
   "metadata": {},
   "outputs": [],
   "source": [
    "px.violin(data2013, y='life',hover_data=['Country','Year'],box=True)"
   ]
  },
  {
   "cell_type": "markdown",
   "metadata": {},
   "source": [
    "## Assignment\n",
    "Examine the data of Tucson neighborhood incomes at:\n",
    "```\n",
    "https://raw.githubusercontent.com/SkyIslandsMath/semester-2/master/data/tuc_neighborhood_Income.csv\n",
    "```\n",
    "Load the data, compute it's summary statistics, make a histogram and box plot. Write a couple of sentences describing what this data tells us about Tucson?"
   ]
  },
  {
   "cell_type": "code",
   "execution_count": null,
   "metadata": {},
   "outputs": [],
   "source": []
  }
 ],
 "metadata": {
  "kernelspec": {
   "display_name": "Python 3",
   "language": "python",
   "name": "python3"
  },
  "language_info": {
   "codemirror_mode": {
    "name": "ipython",
    "version": 3
   },
   "file_extension": ".py",
   "mimetype": "text/x-python",
   "name": "python",
   "nbconvert_exporter": "python",
   "pygments_lexer": "ipython3",
   "version": "3.8.1"
  }
 },
 "nbformat": 4,
 "nbformat_minor": 4
}
