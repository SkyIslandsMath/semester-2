{
 "cells": [
  {
   "cell_type": "markdown",
   "metadata": {},
   "source": [
    "# Making our own statistical functions\n",
    "\n",
    "We've already seen that `numpy` and `pandas` implement functions to calculate statistical measures, but let's refresh our coding skills by implementing our own.  You may not use `numpy`, `pandas`, or any other libraries in this assignment, unless the question specifies otherwise\n",
    "\n",
    "Remember that to iterate through a list, you can use the form \n",
    "```\n",
    "for item in list:`\n",
    "    do some stuff\n",
    "```\n",
    "Also remember that you can find the length of a list with the `len` function. For instance:\n",
    "```\n",
    "nums=[1,2,3,4,5,6,7,8,9,10]\n",
    "len(nums)\n",
    "```\n",
    "will return `10` because there are ten items in the list named `nums`."
   ]
  },
  {
   "cell_type": "markdown",
   "metadata": {},
   "source": [
    "## 1. `mean`\n",
    "\n",
    "Write a function that takes a list of numbers and returns the mean. You may not use any libraries (don't use `numpy`,`pandas` or anything else). \n",
    "\n",
    "\n",
    "Your function signature should be\n",
    "```\n",
    "def my_mean(numbers):\n",
    "```"
   ]
  },
  {
   "cell_type": "code",
   "execution_count": null,
   "metadata": {},
   "outputs": [],
   "source": []
  },
  {
   "cell_type": "markdown",
   "metadata": {},
   "source": [
    "## 2. Variance\n",
    "\n",
    "Write a function that takes a list of numbers and returns the variance.  You may use your own `my_mean` function. Remember that the exponent operator in python is `**`, so 5 squared would be `5**2` or `(10-3)**2` would equal `49`.\n",
    "\n",
    "Your function signature should be\n",
    "```\n",
    "def my_var(numbers):\n",
    "```"
   ]
  },
  {
   "cell_type": "code",
   "execution_count": 34,
   "metadata": {},
   "outputs": [
    {
     "data": {
      "text/plain": [
       "49"
      ]
     },
     "execution_count": 34,
     "metadata": {},
     "output_type": "execute_result"
    }
   ],
   "source": []
  },
  {
   "cell_type": "markdown",
   "metadata": {},
   "source": [
    "## 3. Standard Deviation\n",
    "\n",
    "Write a function that takes a list of numbers and returns the variance.  You may use the `math.sqrt` function (you must import `math` to use it), your own `my_mean` function, and your own `my_var` function.\n",
    "\n",
    "Your function signature should be\n",
    "```\n",
    "def my_std(numbers):\n",
    "```"
   ]
  },
  {
   "cell_type": "code",
   "execution_count": null,
   "metadata": {},
   "outputs": [],
   "source": []
  },
  {
   "cell_type": "markdown",
   "metadata": {},
   "source": [
    "## 4. Median\n",
    "\n",
    "Write a function that takes a list of numbers and returns the median.  You may use the `sort` function. After assigning a list of numbers to a variable (I'll call it `nums`), you can sort the list so that the values go from lowest to highest by calling `nums.sort()`. You may also use the `math.floor()` and/or the `math.ceil()` which return the integer below or above a particular decimal.\n",
    "\n",
    "Sort example:\n",
    "```\n",
    "nums=[3,5,1,25,4,8,96,34]\n",
    "nums.sort()\n",
    "print(nums)\n",
    "``` \n",
    "outputs:`[1, 3, 4, 5, 8, 25, 34, 96]`\n",
    "\n",
    "floor example:\n",
    "```\n",
    "import math\n",
    "below= math.floor(5.5)\n",
    "print(below)\n",
    "``` \n",
    "outputs: `5`\n",
    "\n",
    "ceil example:\n",
    "```\n",
    "import math\n",
    "above= math.ceil(5.5)\n",
    "print(above)\n",
    "``` \n",
    "outputs:`6`\n",
    "\n",
    "Your function signature should be\n",
    "```\n",
    "def my_median(numbers):\n",
    "```"
   ]
  },
  {
   "cell_type": "code",
   "execution_count": null,
   "metadata": {},
   "outputs": [],
   "source": []
  },
  {
   "cell_type": "markdown",
   "metadata": {},
   "source": [
    "## 5. Quartiles\n",
    "\n",
    "You'll now make functions that find the first quartile and the third quartile (the 0.25 and 0.75 quantiles) of a list of numbers. The easiest way to do this is to split your original list in two at the median. Then the first quartile is just the median of the lower half of the list, and the third quartile is the median of the upper half of the list. \n",
    "\n",
    "If the median of the original list is in the list (if the list has an odd number of elements), it should not be included in either half list. If you need to find the index of an item in a list, you may use the `.index()` function.\n",
    "\n",
    "Example:\n",
    "```\n",
    "nums=[5,10,15]\n",
    "nums.index(10)\n",
    "```\n",
    "returns `1`, the index of the number `10` in the list.\n",
    "\n",
    "your function signatures should be:\n",
    "```\n",
    "def first_quartile(numbers):\n",
    "```\n",
    "and\n",
    "```\n",
    "def third_quartile(numbers):\n",
    "```"
   ]
  },
  {
   "cell_type": "code",
   "execution_count": null,
   "metadata": {},
   "outputs": [],
   "source": []
  },
  {
   "cell_type": "markdown",
   "metadata": {},
   "source": [
    "## 6. Inter-quartile range \n",
    "Finally, make a function that returns the inter-quartile range of a list of numbers. You may use your `first_quartile` and `third_quartile` functions.\n",
    "\n",
    "your function signature should be\n",
    "```\n",
    "def my_IQR(numbers):\n",
    "```\n"
   ]
  },
  {
   "cell_type": "code",
   "execution_count": null,
   "metadata": {},
   "outputs": [],
   "source": []
  },
  {
   "cell_type": "markdown",
   "metadata": {},
   "source": [
    "## 7. Test\n",
    "Run all of  your functions on the following list of numbers:\n",
    "```\n",
    "[ 99,  77,  61,  48,  63,  67,  59,  41,  88,  18,  56,  50,  99,\n",
    "        74,  78,  12,  81,  81,  25,  34,  14,  70,  87,  95,   8,  82,\n",
    "        46,  71,  77,  22, 100,  52,  83,  15,   6,  90,  56,  71,  54,\n",
    "        90,  92,   5,  24,   5,  53,  72,  82,   4,  42,  92]\n",
    "```\n",
    "You should get:\n",
    "mean: `57.42`\n",
    "variance: `877.6`\n",
    "standard deviation: `29.62`\n",
    "median: `62`\n",
    "first quartile: `37.5`\n",
    "third quartile: `81.5`\n",
    "IQR: `44`\n"
   ]
  },
  {
   "cell_type": "code",
   "execution_count": null,
   "metadata": {},
   "outputs": [],
   "source": []
  }
 ],
 "metadata": {
  "hide_input": false,
  "kernelspec": {
   "display_name": "Python 3",
   "language": "python",
   "name": "python3"
  },
  "language_info": {
   "codemirror_mode": {
    "name": "ipython",
    "version": 3
   },
   "file_extension": ".py",
   "mimetype": "text/x-python",
   "name": "python",
   "nbconvert_exporter": "python",
   "pygments_lexer": "ipython3",
   "version": "3.8.1"
  },
  "varInspector": {
   "cols": {
    "lenName": 16,
    "lenType": 16,
    "lenVar": 40
   },
   "kernels_config": {
    "python": {
     "delete_cmd_postfix": "",
     "delete_cmd_prefix": "del ",
     "library": "var_list.py",
     "varRefreshCmd": "print(var_dic_list())"
    },
    "r": {
     "delete_cmd_postfix": ") ",
     "delete_cmd_prefix": "rm(",
     "library": "var_list.r",
     "varRefreshCmd": "cat(var_dic_list()) "
    }
   },
   "types_to_exclude": [
    "module",
    "function",
    "builtin_function_or_method",
    "instance",
    "_Feature"
   ],
   "window_display": false
  }
 },
 "nbformat": 4,
 "nbformat_minor": 4
}
