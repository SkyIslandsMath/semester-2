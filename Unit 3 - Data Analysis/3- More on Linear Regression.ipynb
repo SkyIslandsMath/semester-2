{
 "cells": [
  {
   "cell_type": "code",
   "execution_count": null,
   "metadata": {},
   "outputs": [],
   "source": [
    "!pip install plotly==4.5.2"
   ]
  },
  {
   "cell_type": "markdown",
   "metadata": {},
   "source": [
    "# More Examples\n",
    "\n",
    "Let's do a couple more examples to get the hang of linear regression."
   ]
  },
  {
   "cell_type": "code",
   "execution_count": null,
   "metadata": {},
   "outputs": [],
   "source": [
    "import pandas as pd\n",
    "import plotly.express as px\n",
    "import plotly.graph_objects as go\n",
    "import statsmodels.api as sm"
   ]
  },
  {
   "cell_type": "markdown",
   "metadata": {},
   "source": [
    "## Beach Sand\n",
    "\n",
    "It turns out that there is a correlation between the average size of a grain of sand on a beach, and how steep the beach is. There is a small dataset at \n",
    "`'https://raw.githubusercontent.com/SkyIslandsMath/semester-2/master/data/beach_sand.csv'` that contains the average grain size and steepness of 9 beaches around the world. \n",
    "\n",
    "1. Load the data and make a scatter plot with `'GranuleSize(mm)'` on the x-axis and `'BeachGrad(deg)'` on the y-axis."
   ]
  },
  {
   "cell_type": "code",
   "execution_count": null,
   "metadata": {},
   "outputs": [],
   "source": []
  },
  {
   "cell_type": "code",
   "execution_count": null,
   "metadata": {},
   "outputs": [],
   "source": []
  },
  {
   "cell_type": "markdown",
   "metadata": {},
   "source": [
    "2. Does there appear to be a correlation? What is the correlation coefficient?"
   ]
  },
  {
   "cell_type": "code",
   "execution_count": null,
   "metadata": {},
   "outputs": [],
   "source": []
  },
  {
   "cell_type": "markdown",
   "metadata": {},
   "source": [
    "3. Use statsmodels to make a linear regression model of the data and print out the summary of the model. Don't forget to add a constant to your x-values. \n",
    "     What do our coefficients mean?  "
   ]
  },
  {
   "cell_type": "code",
   "execution_count": null,
   "metadata": {},
   "outputs": [],
   "source": []
  },
  {
   "cell_type": "markdown",
   "metadata": {},
   "source": [
    "4. Plot the original scatter plot with our model line added."
   ]
  },
  {
   "cell_type": "code",
   "execution_count": null,
   "metadata": {},
   "outputs": [],
   "source": []
  },
  {
   "cell_type": "markdown",
   "metadata": {},
   "source": [
    "5. According to your model, what would the slope of a beach be if it had an average granule size of 1 mm?"
   ]
  },
  {
   "cell_type": "markdown",
   "metadata": {},
   "source": [
    "## Crickets\n",
    "The rate at which crickets chirp varies according to the temperature, so we can use cricket chirps as a rudimentary thermometer. We have cricket chirping data here:\n",
    "```'https://raw.githubusercontent.com/SkyIslandsMath/semester-2/master/data/crickets.csv'```\n",
    "\n",
    "Follow the same steps as above to examine, plot and model the data.  "
   ]
  },
  {
   "cell_type": "code",
   "execution_count": null,
   "metadata": {},
   "outputs": [],
   "source": []
  },
  {
   "cell_type": "code",
   "execution_count": null,
   "metadata": {},
   "outputs": [],
   "source": []
  },
  {
   "cell_type": "markdown",
   "metadata": {},
   "source": [
    "1. According to the model you just made, What would the temperature be if the crickets were chirping at a rate of 1 chirp per second?\n",
    "2. What would the temperature be if the rate was 24 chirps/second?"
   ]
  },
  {
   "cell_type": "code",
   "execution_count": null,
   "metadata": {},
   "outputs": [],
   "source": []
  },
  {
   "cell_type": "markdown",
   "metadata": {},
   "source": [
    "# Multiple linear regression\n",
    "There are a number of ways to generalize our basic linear models. One method is to have multiple independent variables that help predict our response variable. Let's look at an example.\n",
    "\n",
    "## Antelopes\n",
    "There is a dataset at `'https://raw.githubusercontent.com/SkyIslandsMath/semester-2/master/data/antelope_mlr.csv'` that tracked a particular population of antelopes in Wyoming over several years. They were looking to see how the size of the herd, the rainfall and the winter severity affected the number of fawns that were born each spring. \n",
    "\n",
    "Let's load and look at the data."
   ]
  },
  {
   "cell_type": "code",
   "execution_count": null,
   "metadata": {},
   "outputs": [],
   "source": [
    "data=pd.read_csv('https://raw.githubusercontent.com/SkyIslandsMath/semester-2/master/data/antelope_mlr.csv')\n",
    "data"
   ]
  },
  {
   "cell_type": "markdown",
   "metadata": {},
   "source": [
    "The Winter Severity index goes from 1 to 5, with 1 being a mild winter, and 5 being a brutal winter.\n",
    "\n",
    "Let's make three plots, with all three having the number of fawns born on the y-axis, and then each of the other columns on the x-axis."
   ]
  },
  {
   "cell_type": "code",
   "execution_count": null,
   "metadata": {},
   "outputs": [],
   "source": [
    "px.scatter(data,x='Adults (100s)',y='New Fawns/100')"
   ]
  },
  {
   "cell_type": "code",
   "execution_count": null,
   "metadata": {
    "scrolled": true
   },
   "outputs": [],
   "source": [
    "px.scatter(data,x='Annual Prec. (in.)',y='New Fawns/100')"
   ]
  },
  {
   "cell_type": "code",
   "execution_count": null,
   "metadata": {},
   "outputs": [],
   "source": [
    "px.scatter(data,x='Winter Severity',y='New Fawns/100')"
   ]
  },
  {
   "cell_type": "markdown",
   "metadata": {},
   "source": [
    "We can see that there appears to be a nice correlation for all of the variables with the number of fawns born. There is a strong positive correlation for precipitation and adult herd size, and a negative correlation for winter severity and fawns.\n",
    "\n",
    "Rather than modeling these separately, we can combine them into a single multivariate model. The process doesn't really change much, we just have multiple columns in our independent variable.\n",
    "\n",
    "1. Our independent variable will now include three columns, not just one. So we create it slightly differently:"
   ]
  },
  {
   "cell_type": "code",
   "execution_count": null,
   "metadata": {},
   "outputs": [],
   "source": [
    "#we create a li|st with the columns we want to use as independent variables\n",
    "ind_vars=['Adults (100s)','Annual Prec. (in.)','Winter Severity']\n",
    "\n",
    "#we set X to the subframe with these columns\n",
    "X=data[ind_vars]\n",
    "\n",
    "#we still need to add a constant\n",
    "X=sm.add_constant(X)"
   ]
  },
  {
   "cell_type": "markdown",
   "metadata": {},
   "source": [
    "2. Nothing changes about how we create our response variable, or how we make and fit our model:"
   ]
  },
  {
   "cell_type": "code",
   "execution_count": null,
   "metadata": {},
   "outputs": [],
   "source": [
    "Y=data['New Fawns/100']\n",
    "fawn_model=sm.OLS(Y,X)\n",
    "fawn_model=fawn_model.fit()\n",
    "fawn_model.summary()"
   ]
  },
  {
   "cell_type": "markdown",
   "metadata": {},
   "source": [
    "We haven't learned how to decide how good our model is, but trust me when I tell you this model is better than the one we get when using just one of the independent variables. \n",
    "\n",
    "The downside of this model is that it is hard to visualize this model since we need 4 -dimensions (the 3 independent variables plus the dependent variable). \n",
    "\n",
    "Even though it is difficult to visualize the model it is still easy to use.  We just need to look at the coefficients in the summary above to get our linear model:\n",
    "\n",
    "$$\n",
    "# of fawns = -5.9220 + 0.3382*(# of Adults) + 0.4015*(annual precipitation) + 0.2629*(winter severity)\n",
    "$$\n",
    "\n",
    "So if we wanted to predict how many fawns would be born in the spring if there were 820 adults in the herd, there were 13.6 inches of precipitation and the winter had a severity of two we would get:\n"
   ]
  },
  {
   "cell_type": "code",
   "execution_count": null,
   "metadata": {},
   "outputs": [],
   "source": [
    "-5.9220 + 0.3382*(8.2) + 0.4015*(13.6) + 0.2629*(2)"
   ]
  },
  {
   "cell_type": "markdown",
   "metadata": {},
   "source": [
    "So we would expect 2.83744 fawns to be born in those conditions."
   ]
  },
  {
   "cell_type": "markdown",
   "metadata": {},
   "source": [
    "## Assignment"
   ]
  },
  {
   "cell_type": "markdown",
   "metadata": {},
   "source": [
    "Use the dataset at \n",
    "```\n",
    "'https://raw.githubusercontent.com/SkyIslandsMath/semester-2/master/data/franchises.csv'\n",
    "```\n",
    "It shows the performance of several individual stores of a franchise along with factors that might affect the sales of that store. Your response variable is the 'Annual Sales' column. All of the other columns are your independent variables. Analyze the dataset like we did for the fawns and create a multiple linear regression model for the variables. \n",
    "\n",
    "Why might such a model be useful?"
   ]
  },
  {
   "cell_type": "code",
   "execution_count": null,
   "metadata": {},
   "outputs": [],
   "source": []
  },
  {
   "cell_type": "code",
   "execution_count": null,
   "metadata": {},
   "outputs": [],
   "source": []
  },
  {
   "cell_type": "code",
   "execution_count": null,
   "metadata": {},
   "outputs": [],
   "source": []
  },
  {
   "cell_type": "code",
   "execution_count": null,
   "metadata": {},
   "outputs": [],
   "source": []
  }
 ],
 "metadata": {
  "hide_input": false,
  "kernelspec": {
   "display_name": "Python 3",
   "language": "python",
   "name": "python3"
  },
  "language_info": {
   "codemirror_mode": {
    "name": "ipython",
    "version": 3
   },
   "file_extension": ".py",
   "mimetype": "text/x-python",
   "name": "python",
   "nbconvert_exporter": "python",
   "pygments_lexer": "ipython3",
   "version": "3.8.2"
  },
  "varInspector": {
   "cols": {
    "lenName": 16,
    "lenType": 16,
    "lenVar": 40
   },
   "kernels_config": {
    "python": {
     "delete_cmd_postfix": "",
     "delete_cmd_prefix": "del ",
     "library": "var_list.py",
     "varRefreshCmd": "print(var_dic_list())"
    },
    "r": {
     "delete_cmd_postfix": ") ",
     "delete_cmd_prefix": "rm(",
     "library": "var_list.r",
     "varRefreshCmd": "cat(var_dic_list()) "
    }
   },
   "types_to_exclude": [
    "module",
    "function",
    "builtin_function_or_method",
    "instance",
    "_Feature"
   ],
   "window_display": false
  }
 },
 "nbformat": 4,
 "nbformat_minor": 4
}
