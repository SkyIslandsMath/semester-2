{
 "cells": [
  {
   "cell_type": "markdown",
   "metadata": {},
   "source": [
    "# Conditionals\n",
    "\n",
    "Conditionals are incredibly important. They allow us to change the behaivior of our program based on whether certain conditions are true or false. The syntax for a single conditional in python is the word `if` followed by a condition that may be true or false then a colon; the indented lines immediately following the conditional run when the condition is true.\n",
    "\n",
    "**Syntax:**\n",
    "```\n",
    "if condition:\n",
    "    code here \n",
    "    runs when \n",
    "    condition is True\n",
    "```    "
   ]
  },
  {
   "cell_type": "markdown",
   "metadata": {},
   "source": [
    "### elif/else\n",
    "It is often neccessary to have several conditionals that are connected to each other. We can do this with `elif` and `else` statements.\n",
    "The syntax for an `elif` is the same as for an `if` statement, but the code in it only runs when its condition is true **and** no ifs or elifs above it have executed. \n",
    "\n",
    "`else` statements are a little different. They do not take a conditional statement, and run their code if none of the ifs or elifs above them have executed.\n",
    "\n",
    "**Syntax:**\n",
    "```\n",
    "if condition1:\n",
    "    code here runs\n",
    "    when condition1 is True\n",
    "elif condition2:\n",
    "    code here runs when the if statement didn't execute \n",
    "    and condition2 is True\n",
    "elif condition3:\n",
    "    code here runs when the if statement \n",
    "    and the first elif didn't execute \n",
    "    and condition3 is True\n",
    "else:\n",
    "    code here runs when none of the if or elif statements above execute.\n",
    "```"
   ]
  },
  {
   "cell_type": "markdown",
   "metadata": {},
   "source": [
    "### Logical operators:\n",
    "| operator | evaluation value |\n",
    "|----|----|\n",
    "| `x == y`     | `True` when x is equal to y |\n",
    "| `x != y`    |  `True` when x is not equal to y |\n",
    "| `x > y`     | `True` when x is greater than y |\n",
    "| `x >= y`    |  `True` when x is greater than or equal to y |\n",
    "| `x < y`    |  `True` when x is less than y |\n",
    "| `x <= y`   |   `True` when x is less than or equal to y |\n",
    "\n"
   ]
  },
  {
   "cell_type": "markdown",
   "metadata": {},
   "source": [
    "### Example:\n",
    "Execute this example several times to see all the different emojis!"
   ]
  },
  {
   "cell_type": "code",
   "execution_count": null,
   "metadata": {},
   "outputs": [],
   "source": [
    "number = int(input('Enter a number: '))\n",
    "if number<5:\n",
    "    print('\\N{FACE WITH COLD SWEAT}')\n",
    "elif number<10:\n",
    "    print('\\N{FACE WITH STUCK-OUT TONGUE AND WINKING EYE}')\n",
    "elif number<20:\n",
    "    print('\\N{Cat face with tears of joy}')\n",
    "else:\n",
    "    print('\\N{dragon face}')"
   ]
  }
 ],
 "metadata": {
  "hide_input": false,
  "kernelspec": {
   "display_name": "Python 3",
   "language": "python",
   "name": "python3"
  },
  "language_info": {
   "codemirror_mode": {
    "name": "ipython",
    "version": 3
   },
   "file_extension": ".py",
   "mimetype": "text/x-python",
   "name": "python",
   "nbconvert_exporter": "python",
   "pygments_lexer": "ipython3",
   "version": "3.7.4"
  },
  "varInspector": {
   "cols": {
    "lenName": 16,
    "lenType": 16,
    "lenVar": 40
   },
   "kernels_config": {
    "python": {
     "delete_cmd_postfix": "",
     "delete_cmd_prefix": "del ",
     "library": "var_list.py",
     "varRefreshCmd": "print(var_dic_list())"
    },
    "r": {
     "delete_cmd_postfix": ") ",
     "delete_cmd_prefix": "rm(",
     "library": "var_list.r",
     "varRefreshCmd": "cat(var_dic_list()) "
    }
   },
   "types_to_exclude": [
    "module",
    "function",
    "builtin_function_or_method",
    "instance",
    "_Feature"
   ],
   "window_display": false
  }
 },
 "nbformat": 4,
 "nbformat_minor": 2
}
