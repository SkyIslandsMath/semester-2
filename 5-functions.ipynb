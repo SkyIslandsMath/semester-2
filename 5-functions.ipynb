{
 "cells": [
  {
   "cell_type": "markdown",
   "metadata": {},
   "source": [
    "# Functions\n",
    "\n",
    "Functions are a wonderful tool to help us program. They are a way to encapsulate code which gives us a number of benefits. Some of the benefits of using them are\n",
    "- allow us to reuse pieces of code\n",
    "- shorten our code\n",
    "- give units of code a name -- this can improvve organization and readability\n",
    "- add flexibility to our code -- especially with the use of parameters\n",
    "\n",
    "Functions have two main pieces, function signature and the body.\n",
    "\n",
    "The function signature is just the first line where we define the function and give it any neccessary parameters. \n",
    "\n",
    "The body is all of the code indented immediately below the function, which runs every time the function is called.\n",
    "\n",
    "We'll write a simple function to illustrate this. The function just gets input from the user, checks that it's only made up of lower case letters, and returns it. In the example below the signature is \n",
    "\n",
    "```python\n",
    "def get_word():\n",
    "```\n",
    "\n",
    "and everything else is the body."
   ]
  },
  {
   "cell_type": "code",
   "execution_count": null,
   "metadata": {},
   "outputs": [],
   "source": [
    "def get_word():\n",
    "    word=input(' Please enter a word: ')\n",
    "    while True:\n",
    "        if word.islower() and word.isalpha():\n",
    "            return word\n",
    "        else:\n",
    "            print('Only use lowercase letters.')\n",
    "            word=input('Please enter a word: ')           "
   ]
  },
  {
   "cell_type": "markdown",
   "metadata": {},
   "source": [
    "Notice that when you run the code cell above, nothing happens. The code inside the function only runs when we **call** the function, not when we define it. \n",
    "\n",
    "To call it, just type it's name followed by parentheses -- this function doesn't have any arguments, but if it did you would put them inside the parentheses.\n",
    "\n",
    "Let's call the function and save the word to a variable so we can use it later."
   ]
  },
  {
   "cell_type": "code",
   "execution_count": null,
   "metadata": {},
   "outputs": [],
   "source": [
    "our_word=get_word()\n",
    "print(our_word)"
   ]
  },
  {
   "cell_type": "markdown",
   "metadata": {},
   "source": [
    "#### two more examples\n",
    "\n",
    "Let's add two more examples to make our code a little interesting. We'll implement a Caesar cipher - so named because Julius Caesar allegedly used it in his private letters. \n",
    "\n",
    "It's a simple method to encode messages by moving each letter in the input a fixed number of letters away in the alphabet. So if we choose a three letter shift, `a` would become `d`, `b` would become `e`, and `c` would become `f`. If we get to the end of the alphabet, we just go back to the beginning, so `x` becomes `a`.\n",
    "\n",
    "So let's implement an encode function and a decode function for a five-letter shift. We'll need to pass a word to our functions as an argument so we know what to encode, and they will return the encoded/decoded word\n",
    "\n",
    "I use string indexing to implement these functions, and the modulo `%` operator to wrap around to the beginning of the alphabet. if you don't remember these ideas, check out these resources:\n",
    "\n",
    "- [string indexing](https://www.digitalocean.com/community/tutorials/how-to-index-and-slice-strings-in-python-3)\n",
    "- [modulo](https://www.mathsisfun.com/definitions/modulo-operation.html)\n",
    "\n",
    "Here are the `encode` and `decode` functions for our caesar cipher with a five-letter shift:"
   ]
  },
  {
   "cell_type": "code",
   "execution_count": null,
   "metadata": {},
   "outputs": [],
   "source": [
    "def encode(word):\n",
    "    # a string with the whole alphabet\n",
    "    abc='abcdefghijklmnopqrstuvwxyz'\n",
    "    \n",
    "    #an empty string we will eventually return as our encoded word\n",
    "    new_word=''\n",
    "    \n",
    "    # now we loop through each letter in our word\n",
    "    for letter in word:\n",
    "        \n",
    "        # we find the original location of the letter in the alphabet\n",
    "        location= abc.find(letter)\n",
    "        \n",
    "        # we add five to the location because this is a five letter shift,\n",
    "        # and use mod 26 to wrap around to the beginning of the alphabet if we need to\n",
    "        location= (location+5)%26\n",
    "        \n",
    "        #now we add the letter in that position in the alphabet to new_word\n",
    "        new_word=new_word+abc[location]\n",
    "        \n",
    "    # new_word now has our enoded string, so we just need to return it.\n",
    "    return new_word\n",
    "\n",
    "#decode is almost exactly the same except we subtract five from the location instead of adding it\n",
    "def decode(word):\n",
    "    abc='abcdefghijklmnopqrstuvwxyz'\n",
    "    new_word=''\n",
    "    for letter in word:\n",
    "        location= abc.find(letter)\n",
    "        location= (location-5)%26\n",
    "        new_word=new_word+abc[location]\n",
    "    return new_word       \n",
    "        "
   ]
  },
  {
   "cell_type": "markdown",
   "metadata": {},
   "source": [
    "## Putting it together\n",
    "\n",
    "Let's put these pieces together inside a while loop and we can make a little cryptographic program. I use `\\n` below, which is like hitting the return key - it moves us to a new line - it's just to make things pretty."
   ]
  },
  {
   "cell_type": "code",
   "execution_count": null,
   "metadata": {},
   "outputs": [],
   "source": [
    "while True:\n",
    "    print(' 1) Encode \\n 2) Decode \\n 3) Quit')\n",
    "    choice=input(\" Enter the number of your choice: \")\n",
    "    if choice=='1':\n",
    "        print('\\n Encoding selected.')\n",
    "        word=get_word()\n",
    "        encoded=encode(word)\n",
    "        print(f'\\n Your encoded word is: {encoded}\\n')\n",
    "    elif choice=='2':\n",
    "        print('\\n Decoding selected.')\n",
    "        word=get_word()\n",
    "        decoded=decode(word)\n",
    "        print(f'\\n your decoded word is: {decoded}\\n')\n",
    "    elif choice=='3':\n",
    "        break\n",
    "    else:\n",
    "        print('\\n selection not understood\\n')"
   ]
  },
  {
   "cell_type": "markdown",
   "metadata": {},
   "source": [
    "# Assignment\n",
    "\n",
    "In our code above we shifted our letters by the same amount every time, but that makes our code easy to break. Let's make it slightly harder to break by adding a way to change the amount we shift.\n",
    "\n",
    " 1) I've copied the encode and decode functions below. Modify them so they take a secend argument called `shift`, Use the `shift` argument to encode and decode our words by the shifted amount"
   ]
  },
  {
   "cell_type": "code",
   "execution_count": null,
   "metadata": {},
   "outputs": [],
   "source": [
    "def encode(word):\n",
    "    abc='abcdefghijklmnopqrstuvwxyz'\n",
    "    new_word=''\n",
    "    for letter in word:\n",
    "        location= abc.find(letter)\n",
    "        location= (location+5)%26\n",
    "        new_word=new_word+abc[location]\n",
    "    return new_word       \n",
    "def decode(word):\n",
    "    abc='abcdefghijklmnopqrstuvwxyz'\n",
    "    new_word=''\n",
    "    for letter in word:\n",
    "        location= abc.find(letter)\n",
    "        location= (location-5)%26\n",
    "        new_word=new_word+abc[location]\n",
    "    return new_word       \n",
    "                "
   ]
  },
  {
   "cell_type": "markdown",
   "metadata": {},
   "source": [
    "2) Make a function called `get_index` that gets input from the user, checks to make sure it's a number (check out python's `.isdecimal` method), converts it to an integer, and returns the integer value"
   ]
  },
  {
   "cell_type": "code",
   "execution_count": null,
   "metadata": {},
   "outputs": [],
   "source": [
    "# Make your get_index fuction here:\n"
   ]
  },
  {
   "cell_type": "markdown",
   "metadata": {},
   "source": [
    "3) I've copied the main part of our program below. Modify it so that it asks for the shift distance when it encodes or decodes a word, and make sure the encode and decode function calls are changed so that they use the entered shift distance."
   ]
  },
  {
   "cell_type": "code",
   "execution_count": null,
   "metadata": {},
   "outputs": [],
   "source": [
    "while True:\n",
    "    print(' 1) Encode \\n 2) Decode \\n 3) Quit')\n",
    "    choice=input(\" Enter the number of your choice: \")\n",
    "    if choice=='1':\n",
    "        print(' Encoding selected.')\n",
    "        word=get_word()\n",
    "        encoded=encode(word)\n",
    "        print(f'\\n Your encoded word is: {encoded}\\n')\n",
    "    elif choice=='2':\n",
    "        print(' Decoding selected.')\n",
    "        word=get_word()\n",
    "        decoded=decode(word)\n",
    "        print(f'\\n your decoded word is: {decoded}\\n')\n",
    "    elif choice=='3':\n",
    "        break\n",
    "    else:\n",
    "        print('\\n selection not understood\\n')"
   ]
  },
  {
   "cell_type": "markdown",
   "metadata": {},
   "source": [
    "4) Use your program to tell me the encoded strings for the following words and shift distances\n",
    "\n",
    "|word|shift distance|\n",
    "|----|----|\n",
    "|encryption|8|\n",
    "|lemonade|12|\n",
    "|linear|3|"
   ]
  },
  {
   "cell_type": "markdown",
   "metadata": {},
   "source": [
    "Enter your encoded words here:"
   ]
  },
  {
   "cell_type": "markdown",
   "metadata": {},
   "source": [
    "Extra credit:\n",
    "Implement an affine cipher encoder and decoder. Just google it to find out what it is!"
   ]
  },
  {
   "cell_type": "code",
   "execution_count": null,
   "metadata": {},
   "outputs": [],
   "source": []
  }
 ],
 "metadata": {
  "kernelspec": {
   "display_name": "Python 3",
   "language": "python",
   "name": "python3"
  },
  "language_info": {
   "codemirror_mode": {
    "name": "ipython",
    "version": 3
   },
   "file_extension": ".py",
   "mimetype": "text/x-python",
   "name": "python",
   "nbconvert_exporter": "python",
   "pygments_lexer": "ipython3",
   "version": "3.7.4"
  }
 },
 "nbformat": 4,
 "nbformat_minor": 2
}
