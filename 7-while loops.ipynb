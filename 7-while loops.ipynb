{
 "cells": [
  {
   "cell_type": "markdown",
   "metadata": {},
   "source": [
    "# While loops\n",
    "\n",
    "We use while loops if we don't know how many times we'll need to loop. We've seen them used several times to create user interactions -- either making sure they enter valid input, or continuing to run a program as long as they don't quit.\n",
    "\n",
    "The syntax is simple and is very similar to an `if` statement:\n",
    "```\n",
    "while condition:\n",
    "    code here is repeated\n",
    "    as long as condition is True\n",
    "```\n",
    "Remember, if your condition depends on a variable, update the value of the variable every loop - otherwise you will enter an infinite loop.\n",
    "\n",
    "**UPDATE YOUR VARIABLES!!**\n",
    "#### Examples:"
   ]
  },
  {
   "cell_type": "code",
   "execution_count": null,
   "metadata": {},
   "outputs": [],
   "source": [
    "from random import randint\n",
    "\n",
    "#choosing a random number from 1-10\n",
    "num=randint(1,10)\n",
    "\n",
    "#getting a guess from the user\n",
    "guess=int(input(\"Guess a number from 1 to 10: \"))\n",
    "\n",
    "#loop as long as the guess is not equal to the number\n",
    "while guess!=num:\n",
    "    print(\"Wrong!\")\n",
    "    \n",
    "    #updating the variable\n",
    "    guess=int(input(\"Guess a number from 1 to 10: \"))\n",
    "    \n",
    "# we are out of the loop now, which means the guess is equal to the number\n",
    "print(f\"You guessed it! The number was {num}\")"
   ]
  },
  {
   "cell_type": "code",
   "execution_count": null,
   "metadata": {},
   "outputs": [],
   "source": [
    "#We'll find the prime factorization of the number you enter\n",
    "number = int(input(\"Enter a positive number:\"))\n",
    "\n",
    "#this list will store the factors\n",
    "factors = []\n",
    "\n",
    "#we'll divide the number each time we find a factor, so when we've found them all the number will be 1\n",
    "while number != 1:\n",
    "    #we'll try every possible number starting at 2\n",
    "    factor = 2\n",
    "    \n",
    "    # if the number is divisible by the factor (the remainder is 0) \n",
    "    # the while loop stops, otherwise it adds one to the number \n",
    "    while number % factor != 0:\n",
    "        factor = factor + 1\n",
    "    \n",
    "    # we add the factor we just found to our list \n",
    "    factors.append(factor)\n",
    "    number = number / factor\n",
    "    \n",
    "print(f\"The prime factors are: {factors}\")"
   ]
  },
  {
   "cell_type": "markdown",
   "metadata": {},
   "source": [
    "## `break` and `continue`\n",
    "\n",
    "Sometimes we want to terminate a loop early, structure a loop as infinite, or want to skip part of a loop. For these situations, we use `break` and `continue`. If we are inside a function, we may also use `return` in some cases.\n",
    "\n",
    "|command|what it does|\n",
    "|-----|-----|\n",
    "|`break`| immediately stops executing the current loop, python goes to the first line of code outside of the loop|\n",
    "|`continue`| stops executing the current iteration of the loop, starts the next round of the loop.|\n",
    "|`return`| immediately returns the value to where the loop was called from, any loops in the function are ended|\n",
    "\n",
    "#### Examples\n",
    "\n",
    "This program is exactly the same as the guessing game above, but implemented with an infinite `while True:` loop and a `break` command."
   ]
  },
  {
   "cell_type": "code",
   "execution_count": null,
   "metadata": {},
   "outputs": [],
   "source": [
    "from random import randint\n",
    "\n",
    "#choosing a random number from 1-10\n",
    "num=randint(1,10)\n",
    "\n",
    "#getting a guess from the user\n",
    "guess=int(input(\"Guess a number from 1 to 10: \"))\n",
    "\n",
    "#while True with a break\n",
    "while True:\n",
    "    if guess==num:\n",
    "        break\n",
    "    else:\n",
    "        print(\"Wrong!\")\n",
    "        \n",
    "    #updating the variable\n",
    "    guess=int(input(\"Guess a number from 1 to 10: \"))\n",
    "    \n",
    "# we are out of the loop now, which means the guess is equal to the number\n",
    "print(f\"You guessed it! The number was {num}\")"
   ]
  },
  {
   "cell_type": "markdown",
   "metadata": {},
   "source": [
    "#### Simple example of continue and break.\n",
    "This loop will count up to 25, skipping every other number."
   ]
  },
  {
   "cell_type": "code",
   "execution_count": null,
   "metadata": {},
   "outputs": [],
   "source": [
    "num=0\n",
    "while True:\n",
    "    \n",
    "    #stop when we get to 25\n",
    "    if num==25:\n",
    "        break\n",
    "        \n",
    "    #updating the variable near the top (a little unusual)\n",
    "    num=num+1\n",
    "    \n",
    "    #this conditional tells python to skip back to the top of the loop if the num is even,\n",
    "    # which skips the print statement below\n",
    "    if num%2==0:\n",
    "        continue\n",
    "        \n",
    "    print(num)"
   ]
  },
  {
   "cell_type": "markdown",
   "metadata": {},
   "source": [
    "## Assignment:\n",
    " 1. Get a number from the user.\n",
    " 2. We want to see how many times we can divide by 2 before the number is less than or equal to 1.\n",
    " 3. Use a while loop to divide the number many times, testing to see if it is less than or equal to 1. And keep count of how many times it takes\n",
    " 4. print out how many times it took."
   ]
  },
  {
   "cell_type": "code",
   "execution_count": null,
   "metadata": {},
   "outputs": [],
   "source": []
  }
 ],
 "metadata": {
  "hide_input": false,
  "kernelspec": {
   "display_name": "Python 3",
   "language": "python",
   "name": "python3"
  },
  "language_info": {
   "codemirror_mode": {
    "name": "ipython",
    "version": 3
   },
   "file_extension": ".py",
   "mimetype": "text/x-python",
   "name": "python",
   "nbconvert_exporter": "python",
   "pygments_lexer": "ipython3",
   "version": "3.7.3"
  },
  "varInspector": {
   "cols": {
    "lenName": 16,
    "lenType": 16,
    "lenVar": 40
   },
   "kernels_config": {
    "python": {
     "delete_cmd_postfix": "",
     "delete_cmd_prefix": "del ",
     "library": "var_list.py",
     "varRefreshCmd": "print(var_dic_list())"
    },
    "r": {
     "delete_cmd_postfix": ") ",
     "delete_cmd_prefix": "rm(",
     "library": "var_list.r",
     "varRefreshCmd": "cat(var_dic_list()) "
    }
   },
   "types_to_exclude": [
    "module",
    "function",
    "builtin_function_or_method",
    "instance",
    "_Feature"
   ],
   "window_display": false
  }
 },
 "nbformat": 4,
 "nbformat_minor": 2
}
